{
  "nbformat": 4,
  "nbformat_minor": 5,
  "metadata": {
    "colab": {
      "provenance": [],
      "include_colab_link": true
    },
    "language_info": {
      "name": "python"
    },
    "kernelspec": {
      "name": "python3",
      "display_name": "Python 3"
    }
  },
  "cells": [
    {
      "cell_type": "markdown",
      "metadata": {
        "id": "view-in-github",
        "colab_type": "text"
      },
      "source": [
        "<a href=\"https://colab.research.google.com/github/VijayDalali/Python/blob/main/python_if_else_problems.ipynb\" target=\"_parent\"><img src=\"https://colab.research.google.com/assets/colab-badge.svg\" alt=\"Open In Colab\"/></a>"
      ]
    },
    {
      "id": "b41bbd4c",
      "cell_type": "code",
      "metadata": {
        "colab": {
          "base_uri": "https://localhost:8080/"
        },
        "id": "b41bbd4c",
        "outputId": "7cebb65a-d999-4efa-fe81-e9a7efa3a760"
      },
      "execution_count": 45,
      "source": [
        "n = -5 #  Check if a number is positive\n",
        "if n > 0:\n",
        "    print('Positive')\n",
        "else:\n",
        "    print('Negative')"
      ],
      "outputs": [
        {
          "output_type": "stream",
          "name": "stdout",
          "text": [
            "Negative\n"
          ]
        }
      ]
    },
    {
      "id": "7449a6d6",
      "cell_type": "code",
      "metadata": {
        "colab": {
          "base_uri": "https://localhost:8080/"
        },
        "id": "7449a6d6",
        "outputId": "b77fcf09-7814-4fd9-b673-e581274d6696"
      },
      "execution_count": 46,
      "source": [
        "# Check if a number is Odd or even\n",
        "n = 7\n",
        "if n % 2 == 0:\n",
        "    print('Even')\n",
        "else:\n",
        "    print('Odd')"
      ],
      "outputs": [
        {
          "output_type": "stream",
          "name": "stdout",
          "text": [
            "Odd\n"
          ]
        }
      ]
    },
    {
      "id": "26c563f8",
      "cell_type": "code",
      "metadata": {
        "colab": {
          "base_uri": "https://localhost:8080/"
        },
        "id": "26c563f8",
        "outputId": "053ff80f-52d8-424b-df04-8538b10f5ab0"
      },
      "execution_count": 47,
      "source": [
        "# Greater of two numbers\n",
        "a, b = 10, 20\n",
        "if a > b:\n",
        "    print('a is greater')\n",
        "else:\n",
        "    print('b is greater')"
      ],
      "outputs": [
        {
          "output_type": "stream",
          "name": "stdout",
          "text": [
            "b is greater\n"
          ]
        }
      ]
    },
    {
      "id": "25f1f47e",
      "cell_type": "code",
      "metadata": {
        "colab": {
          "base_uri": "https://localhost:8080/"
        },
        "id": "25f1f47e",
        "outputId": "b97ae232-179b-439e-8d17-55c3bda0c1db"
      },
      "execution_count": 48,
      "source": [
        "#Divisible by 7\n",
        "n = 21\n",
        "if n % 7 == 0:\n",
        "    print('Divisible by 7')\n",
        "else:\n",
        "    print('Not divisible by 7')"
      ],
      "outputs": [
        {
          "output_type": "stream",
          "name": "stdout",
          "text": [
            "Divisible by 7\n"
          ]
        }
      ]
    },
    {
      "id": "1bf19372",
      "cell_type": "code",
      "metadata": {
        "colab": {
          "base_uri": "https://localhost:8080/"
        },
        "id": "1bf19372",
        "outputId": "ffdb0b04-6e15-464b-9c67-342ff6895f9c"
      },
      "execution_count": 49,
      "source": [
        "# Eligible to Vote\n",
        "age = 19\n",
        "if age >= 18:\n",
        "    print('Eligible to vote')\n",
        "else:\n",
        "    print('Not eligible')"
      ],
      "outputs": [
        {
          "output_type": "stream",
          "name": "stdout",
          "text": [
            "Eligible to vote\n"
          ]
        }
      ]
    },
    {
      "id": "6d554e16",
      "cell_type": "code",
      "metadata": {
        "colab": {
          "base_uri": "https://localhost:8080/"
        },
        "id": "6d554e16",
        "outputId": "5ae7f7e8-39ce-4c95-ef3c-7e9e040c18a5"
      },
      "execution_count": 50,
      "source": [
        "# Pass/Fail\n",
        "marks = 35\n",
        "if marks >= 40:\n",
        "    print('Pass')\n",
        "else:\n",
        "    print('Fail')"
      ],
      "outputs": [
        {
          "output_type": "stream",
          "name": "stdout",
          "text": [
            "Fail\n"
          ]
        }
      ]
    },
    {
      "id": "4516966f",
      "cell_type": "code",
      "metadata": {
        "colab": {
          "base_uri": "https://localhost:8080/"
        },
        "id": "4516966f",
        "outputId": "8c776495-0635-4a1b-b883-fe596c55eff2"
      },
      "execution_count": 51,
      "source": [
        "#leap year\n",
        "year = 2024\n",
        "if year % 4 == 0:\n",
        "    if year % 100 != 0 or year % 400 == 0:\n",
        "        print('Leap Year')\n",
        "    else:\n",
        "        print('Not Leap Year')\n",
        "else:\n",
        "    print('Not Leap Year')"
      ],
      "outputs": [
        {
          "output_type": "stream",
          "name": "stdout",
          "text": [
            "Leap Year\n"
          ]
        }
      ]
    },
    {
      "id": "1e88a43b",
      "cell_type": "code",
      "metadata": {
        "colab": {
          "base_uri": "https://localhost:8080/"
        },
        "id": "1e88a43b",
        "outputId": "34e0ece3-9126-4c02-9535-210068a2ab9a"
      },
      "execution_count": 52,
      "source": [
        "#Smallest of two\n",
        "a, b = 8, 6\n",
        "if a < b:\n",
        "    print(a, 'is smaller')\n",
        "else:\n",
        "    print(b, 'is smaller')"
      ],
      "outputs": [
        {
          "output_type": "stream",
          "name": "stdout",
          "text": [
            "6 is smaller\n"
          ]
        }
      ]
    },
    {
      "id": "2e7969f9",
      "cell_type": "code",
      "metadata": {
        "colab": {
          "base_uri": "https://localhost:8080/"
        },
        "id": "2e7969f9",
        "outputId": "11ebbd3f-5f51-4cdc-eaa7-268def794bf5"
      },
      "execution_count": 53,
      "source": [
        "#Multiple of 5\n",
        "n = 25\n",
        "if n % 5 == 0:\n",
        "    print('Multiple of 5')\n",
        "else:\n",
        "    print('Not multiple of 5')"
      ],
      "outputs": [
        {
          "output_type": "stream",
          "name": "stdout",
          "text": [
            "Multiple of 5\n"
          ]
        }
      ]
    },
    {
      "id": "d4b794ee",
      "cell_type": "code",
      "metadata": {
        "colab": {
          "base_uri": "https://localhost:8080/"
        },
        "id": "d4b794ee",
        "outputId": "34ca0107-c34a-4976-a9e6-e7faed8edd2e"
      },
      "execution_count": 54,
      "source": [
        "#Single or double digit\n",
        "n = 42\n",
        "if n < 10:\n",
        "    print('Single-digit')\n",
        "else:\n",
        "    print('Double-digit or more')"
      ],
      "outputs": [
        {
          "output_type": "stream",
          "name": "stdout",
          "text": [
            "Double-digit or more\n"
          ]
        }
      ]
    },
    {
      "id": "3990386a",
      "cell_type": "code",
      "metadata": {
        "colab": {
          "base_uri": "https://localhost:8080/"
        },
        "id": "3990386a",
        "outputId": "72999dda-03eb-4165-e96a-5316a93c8dbd"
      },
      "execution_count": 55,
      "source": [
        "# Largest of three elements\n",
        "a, b, c = 100, 25, 85\n",
        "if a > b and a > c:\n",
        "    print(a)\n",
        "elif b > c:\n",
        "    print(b)\n",
        "else:\n",
        "    print(c)"
      ],
      "outputs": [
        {
          "output_type": "stream",
          "name": "stdout",
          "text": [
            "100\n"
          ]
        }
      ]
    },
    {
      "id": "49c116cd",
      "cell_type": "code",
      "metadata": {
        "colab": {
          "base_uri": "https://localhost:8080/"
        },
        "id": "49c116cd",
        "outputId": "2323ef5f-0a58-489b-f1e5-e5ce193aa8c7"
      },
      "execution_count": 56,
      "source": [
        "# Postive|Negative|Zero\n",
        "n = -3\n",
        "if n > 0:\n",
        "    print('Positive')\n",
        "elif n < 0:\n",
        "    print('Negative')\n",
        "else:\n",
        "    print('Zero')"
      ],
      "outputs": [
        {
          "output_type": "stream",
          "name": "stdout",
          "text": [
            "Negative\n"
          ]
        }
      ]
    },
    {
      "id": "badc79dd",
      "cell_type": "code",
      "metadata": {
        "colab": {
          "base_uri": "https://localhost:8080/"
        },
        "id": "badc79dd",
        "outputId": "dccb0947-afd3-4e36-8867-e20fc7c110b6"
      },
      "execution_count": 57,
      "source": [
        "# Classify the age group\n",
        "age = 45\n",
        "if age < 13:\n",
        "    print('Child')\n",
        "elif age < 20:\n",
        "    print('Teen')\n",
        "elif age < 60:\n",
        "    print('Adult')\n",
        "else:\n",
        "    print('Senior')"
      ],
      "outputs": [
        {
          "output_type": "stream",
          "name": "stdout",
          "text": [
            "Adult\n"
          ]
        }
      ]
    },
    {
      "id": "30bf6113",
      "cell_type": "code",
      "metadata": {
        "colab": {
          "base_uri": "https://localhost:8080/"
        },
        "id": "30bf6113",
        "outputId": "52d17084-2f37-43c3-ebe7-8235dd40738e"
      },
      "execution_count": 58,
      "source": [
        "#Find the Student grade\n",
        "marks = 82\n",
        "if marks >= 90:\n",
        "    print('Grade A')\n",
        "elif marks >= 75:\n",
        "    print('Grade B')\n",
        "elif marks >= 50:\n",
        "    print('Grade C')\n",
        "else:\n",
        "    print('Fail')"
      ],
      "outputs": [
        {
          "output_type": "stream",
          "name": "stdout",
          "text": [
            "Grade B\n"
          ]
        }
      ]
    },
    {
      "id": "0d2dd022",
      "cell_type": "code",
      "metadata": {
        "colab": {
          "base_uri": "https://localhost:8080/"
        },
        "id": "0d2dd022",
        "outputId": "7050e2ee-a156-4b35-fe53-4598ab4caf35"
      },
      "execution_count": 59,
      "source": [
        "# Check if the ch is a Vowel or a consonant\n",
        "ch = 'i'\n",
        "if ch in 'aeiouAEIOU':\n",
        "    print('Vowel')\n",
        "else:\n",
        "    print('Consonant')"
      ],
      "outputs": [
        {
          "output_type": "stream",
          "name": "stdout",
          "text": [
            "Vowel\n"
          ]
        }
      ]
    },
    {
      "id": "7e74e0a5",
      "cell_type": "code",
      "metadata": {
        "colab": {
          "base_uri": "https://localhost:8080/"
        },
        "id": "7e74e0a5",
        "outputId": "c7812386-9df4-4935-c599-45ba039e54f4"
      },
      "execution_count": 60,
      "source": [
        "#Check the number is between 1 and 100\n",
        "n = 77\n",
        "if 1 <= n <= 100:\n",
        "    print('In range')\n",
        "else:\n",
        "    print('Out of range')"
      ],
      "outputs": [
        {
          "output_type": "stream",
          "name": "stdout",
          "text": [
            "In range\n"
          ]
        }
      ]
    },
    {
      "id": "3dffe6cf",
      "cell_type": "code",
      "metadata": {
        "colab": {
          "base_uri": "https://localhost:8080/"
        },
        "id": "3dffe6cf",
        "outputId": "0f96adcd-48e4-4afa-dbb5-37ee1994bbfc"
      },
      "execution_count": 61,
      "source": [
        "#  Find the absolute value\n",
        "n = -9\n",
        "if n < 0:\n",
        "    print(-n)\n",
        "else:\n",
        "    print(n)"
      ],
      "outputs": [
        {
          "output_type": "stream",
          "name": "stdout",
          "text": [
            "9\n"
          ]
        }
      ]
    },
    {
      "id": "30b47b83",
      "cell_type": "code",
      "metadata": {
        "colab": {
          "base_uri": "https://localhost:8080/"
        },
        "id": "30b47b83",
        "outputId": "2ea5093e-c345-44af-c7aa-6a5903dc8b19"
      },
      "execution_count": 62,
      "source": [
        "# find the triangle type\n",
        "a, b, c = 5, 5, 5\n",
        "if a == b == c:\n",
        "    print('Equilateral')\n",
        "elif a == b or b == c or a == c:\n",
        "    print('Isosceles')\n",
        "else:\n",
        "    print('Scalene')"
      ],
      "outputs": [
        {
          "output_type": "stream",
          "name": "stdout",
          "text": [
            "Equilateral\n"
          ]
        }
      ]
    },
    {
      "id": "009337ba",
      "cell_type": "code",
      "metadata": {
        "colab": {
          "base_uri": "https://localhost:8080/"
        },
        "id": "009337ba",
        "outputId": "e28b45de-3896-4642-ff7e-b4bea51c841a"
      },
      "execution_count": 63,
      "source": [
        "#check the driving license eligibility for the driver\n",
        "age = 20\n",
        "test_passed = True\n",
        "if age >= 18 and test_passed:\n",
        "    print('Eligible')\n",
        "else:\n",
        "    print('Not eligible')"
      ],
      "outputs": [
        {
          "output_type": "stream",
          "name": "stdout",
          "text": [
            "Eligible\n"
          ]
        }
      ]
    },
    {
      "id": "3179694a",
      "cell_type": "code",
      "metadata": {
        "colab": {
          "base_uri": "https://localhost:8080/"
        },
        "id": "3179694a",
        "outputId": "a7ed813e-fb20-4666-ca7b-07a81b8c9abb"
      },
      "execution_count": 64,
      "source": [
        "# Find the second largest of the three(10,20,30)\n",
        "a, b, c = 10, 20, 30\n",
        "if a > b:\n",
        "    if a > c:\n",
        "        second = b if b > c else c\n",
        "    else:\n",
        "        second = a\n",
        "else:\n",
        "    if b > c:\n",
        "        second = a if a > c else c\n",
        "    else:\n",
        "        second = b\n",
        "print('Second largest:', second)"
      ],
      "outputs": [
        {
          "output_type": "stream",
          "name": "stdout",
          "text": [
            "Second largest: 20\n"
          ]
        }
      ]
    },
    {
      "id": "bfa2c7ea",
      "cell_type": "code",
      "metadata": {
        "colab": {
          "base_uri": "https://localhost:8080/"
        },
        "id": "bfa2c7ea",
        "outputId": "fdefa510-1dce-4bf3-c9d8-fde3472b7e24"
      },
      "execution_count": 65,
      "source": [
        "#Check the century year\n",
        "year = 1999\n",
        "if year % 100 == 0:\n",
        "    print('Century Year')\n",
        "else:\n",
        "    print('Not a Century Year')"
      ],
      "outputs": [
        {
          "output_type": "stream",
          "name": "stdout",
          "text": [
            "Not a Century Year\n"
          ]
        }
      ]
    },
    {
      "id": "429732a3",
      "cell_type": "code",
      "metadata": {
        "colab": {
          "base_uri": "https://localhost:8080/"
        },
        "id": "429732a3",
        "outputId": "f8c37d8c-0af9-4fb6-a81b-93b1b5b20fe1"
      },
      "execution_count": 66,
      "source": [
        "#write a valid angle of triangle\n",
        "a, b, c = 30, 60, 30\n",
        "if a + b + c == 180:\n",
        "    print('Valid Triangle')\n",
        "else:\n",
        "    print('Not a Triangle')"
      ],
      "outputs": [
        {
          "output_type": "stream",
          "name": "stdout",
          "text": [
            "Not a Triangle\n"
          ]
        }
      ]
    },
    {
      "id": "061e0797",
      "cell_type": "code",
      "metadata": {
        "colab": {
          "base_uri": "https://localhost:8080/"
        },
        "id": "061e0797",
        "outputId": "88718616-db6f-4fd5-ab58-0307a6b0481d"
      },
      "execution_count": 67,
      "source": [
        "#Check the number its prime or notn = 11\n",
        "if n > 1:\n",
        "    for i in range(2, n):\n",
        "        if n % i == 0:\n",
        "            print('Not Prime')\n",
        "            break\n",
        "    else:\n",
        "        print('Prime')\n",
        "else:\n",
        "    print('Not Prime')"
      ],
      "outputs": [
        {
          "output_type": "stream",
          "name": "stdout",
          "text": [
            "Not Prime\n"
          ]
        }
      ]
    },
    {
      "id": "6da127a7",
      "cell_type": "code",
      "metadata": {
        "colab": {
          "base_uri": "https://localhost:8080/"
        },
        "id": "6da127a7",
        "outputId": "3a676e05-9ac0-49bf-90b6-3fcc610b5d12"
      },
      "execution_count": 68,
      "source": [
        "# Which is the maximum of the four numbers(10,40,30,25)\n",
        "a, b, c, d = 10, 40, 30, 25\n",
        "if a > b and a > c and a > d:\n",
        "    print(a)\n",
        "elif b > c and b > d:\n",
        "    print(b)\n",
        "elif c > d:\n",
        "    print(c)\n",
        "else:\n",
        "    print(d)"
      ],
      "outputs": [
        {
          "output_type": "stream",
          "name": "stdout",
          "text": [
            "40\n"
          ]
        }
      ]
    },
    {
      "id": "6ab09c8f",
      "cell_type": "code",
      "metadata": {
        "colab": {
          "base_uri": "https://localhost:8080/"
        },
        "id": "6ab09c8f",
        "outputId": "759eb670-2862-4b02-e156-33377b83a15b"
      },
      "execution_count": 69,
      "source": [
        "# Check the student's eligibility for a scholarship by marks and income\n",
        "marks, income = 90, 400000\n",
        "if marks >= 85 and income < 500000:\n",
        "    print('Eligible for Scholarship')\n",
        "else:\n",
        "    print('Not Eligible')"
      ],
      "outputs": [
        {
          "output_type": "stream",
          "name": "stdout",
          "text": [
            "Eligible for Scholarship\n"
          ]
        }
      ]
    },
    {
      "id": "309f7c37",
      "cell_type": "code",
      "metadata": {
        "colab": {
          "base_uri": "https://localhost:8080/"
        },
        "id": "309f7c37",
        "outputId": "eee1ed42-e9a1-4956-e4b8-e82e8e5ca781"
      },
      "execution_count": 70,
      "source": [
        "#Temperature Classification\n",
        "temp = -12\n",
        "if temp < 0:\n",
        "    print('Freezing')\n",
        "elif temp <= 20:\n",
        "    print('Cold')\n",
        "elif temp <= 35:\n",
        "    print('Warm')\n",
        "else:\n",
        "    print('Hot')"
      ],
      "outputs": [
        {
          "output_type": "stream",
          "name": "stdout",
          "text": [
            "Freezing\n"
          ]
        }
      ]
    },
    {
      "id": "353689d4",
      "cell_type": "code",
      "metadata": {
        "colab": {
          "base_uri": "https://localhost:8080/"
        },
        "id": "353689d4",
        "outputId": "27159563-fa29-4d32-f04e-27028fb0acad"
      },
      "execution_count": 71,
      "source": [
        "#Weekday or weekend\n",
        "day = 5  # 1=Mon ... 7=Sun\n",
        "if day in [6, 7]:\n",
        "    print('Weekend')\n",
        "else:\n",
        "    print('Weekday')"
      ],
      "outputs": [
        {
          "output_type": "stream",
          "name": "stdout",
          "text": [
            "Weekday\n"
          ]
        }
      ]
    },
    {
      "id": "10635a4c",
      "cell_type": "code",
      "metadata": {
        "colab": {
          "base_uri": "https://localhost:8080/"
        },
        "id": "10635a4c",
        "outputId": "de3a711b-6ef7-4018-a304-853adb210016"
      },
      "execution_count": 72,
      "source": [
        "#Shop Discount\n",
        "bill = 1500\n",
        "if bill < 500:\n",
        "    discount = 0\n",
        "elif bill <= 1000:\n",
        "    discount = 0.1 * bill\n",
        "else:\n",
        "    discount = 0.2 * bill\n",
        "final_amount = bill - discount\n",
        "print('Final bill:', final_amount)"
      ],
      "outputs": [
        {
          "output_type": "stream",
          "name": "stdout",
          "text": [
            "Final bill: 1200.0\n"
          ]
        }
      ]
    },
    {
      "id": "55dda94a",
      "cell_type": "code",
      "metadata": {
        "colab": {
          "base_uri": "https://localhost:8080/"
        },
        "id": "55dda94a",
        "outputId": "a89748b2-6fd3-47a0-8674-21280598042c"
      },
      "execution_count": 73,
      "source": [
        "#Leap year (nested if)\n",
        "year = 2028\n",
        "if year % 4 == 0:\n",
        "    if year % 100 == 0:\n",
        "        if year % 400 == 0:\n",
        "            print('Leap Year')\n",
        "        else:\n",
        "            print('Not Leap Year')\n",
        "    else:\n",
        "        print('Leap Year')\n",
        "else:\n",
        "    print('Not Leap Year')"
      ],
      "outputs": [
        {
          "output_type": "stream",
          "name": "stdout",
          "text": [
            "Leap Year\n"
          ]
        }
      ]
    },
    {
      "id": "356f914e",
      "cell_type": "code",
      "metadata": {
        "colab": {
          "base_uri": "https://localhost:8080/"
        },
        "id": "356f914e",
        "outputId": "7932b186-1c17-4944-ab72-e01340bd4b2b"
      },
      "execution_count": 74,
      "source": [
        "# ATM Withdrawal\n",
        "balance = 5000\n",
        "withdraw = 8000\n",
        "if balance >= withdraw:\n",
        "    balance -= withdraw\n",
        "    print('Withdrawal successful. Balance:', balance)\n",
        "else:\n",
        "    print('Insufficient Balance')"
      ],
      "outputs": [
        {
          "output_type": "stream",
          "name": "stdout",
          "text": [
            "Insufficient Balance\n"
          ]
        }
      ]
    },
    {
      "cell_type": "code",
      "source": [],
      "metadata": {
        "id": "bOoWHf2iNH9G"
      },
      "id": "bOoWHf2iNH9G",
      "execution_count": 74,
      "outputs": []
    }
  ]
}