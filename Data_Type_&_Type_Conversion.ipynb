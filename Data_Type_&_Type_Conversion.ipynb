{
  "nbformat": 4,
  "nbformat_minor": 0,
  "metadata": {
    "colab": {
      "provenance": [],
      "authorship_tag": "ABX9TyMlqUWB/f3G3J/a5F8T77pB",
      "include_colab_link": true
    },
    "kernelspec": {
      "name": "python3",
      "display_name": "Python 3"
    },
    "language_info": {
      "name": "python"
    }
  },
  "cells": [
    {
      "cell_type": "markdown",
      "metadata": {
        "id": "view-in-github",
        "colab_type": "text"
      },
      "source": [
        "<a href=\"https://colab.research.google.com/github/VijayDalali/Python/blob/main/Data_Type_%26_Type_Conversion.ipynb\" target=\"_parent\"><img src=\"https://colab.research.google.com/assets/colab-badge.svg\" alt=\"Open In Colab\"/></a>"
      ]
    },
    {
      "cell_type": "code",
      "execution_count": null,
      "metadata": {
        "colab": {
          "base_uri": "https://localhost:8080/"
        },
        "id": "I3TmdcnCaLnE",
        "outputId": "8c1dfde2-b29f-4fc8-bc29-153c44412faa"
      },
      "outputs": [
        {
          "output_type": "stream",
          "name": "stdout",
          "text": [
            "<class 'str'>\n",
            "<class 'int'>\n",
            "<class 'float'>\n"
          ]
        }
      ],
      "source": [
        "# 1 Create a variable x = 10. Print its data type using type().\n",
        "x = 10\n",
        "y = 10.5\n",
        "z = \"2\"\n",
        "print(type(z))\n",
        "print(type(x))\n",
        "print(type(y))"
      ]
    },
    {
      "cell_type": "code",
      "source": [
        "#2 What will type(\"123\") return?\n",
        "x = \"123\"\n",
        "y = 22\n",
        "z = 10.5\n",
        "a = 10>2\n",
        "print(type(x))\n",
        "print(type(y))\n",
        "print(type(z))\n",
        "print(type(a))"
      ],
      "metadata": {
        "colab": {
          "base_uri": "https://localhost:8080/"
        },
        "id": "ax3IHoKssF2-",
        "outputId": "74830362-cf40-422d-b0d3-f0588bd7a77e"
      },
      "execution_count": null,
      "outputs": [
        {
          "output_type": "stream",
          "name": "stdout",
          "text": [
            "<class 'str'>\n",
            "<class 'int'>\n",
            "<class 'float'>\n",
            "<class 'bool'>\n"
          ]
        }
      ]
    },
    {
      "cell_type": "code",
      "source": [
        "#3 Convert an integer 45 into a float.\n",
        "x = 45\n",
        "print(type(float(x)))"
      ],
      "metadata": {
        "colab": {
          "base_uri": "https://localhost:8080/"
        },
        "id": "POYVKJdZtWMa",
        "outputId": "c78801d6-5ff4-4e5a-9954-4aa80e67ec92"
      },
      "execution_count": null,
      "outputs": [
        {
          "output_type": "stream",
          "name": "stdout",
          "text": [
            "<class 'float'>\n"
          ]
        }
      ]
    },
    {
      "cell_type": "code",
      "source": [
        "# 4) Convert a float 3.14 into an integer. What happens to the decimal part?\n",
        "x = 3.14\n",
        "print(int(x))  #decimal part is truncated. not rounded off\n"
      ],
      "metadata": {
        "colab": {
          "base_uri": "https://localhost:8080/"
        },
        "id": "YXOw2Lspvakn",
        "outputId": "28497e30-810e-47fb-b4d8-5a17b51d81f6"
      },
      "execution_count": null,
      "outputs": [
        {
          "output_type": "stream",
          "name": "stdout",
          "text": [
            "3\n"
          ]
        }
      ]
    },
    {
      "cell_type": "code",
      "source": [
        "#5) Store True in a variable and print its type.\n",
        "x = True\n",
        "print(type(x))"
      ],
      "metadata": {
        "colab": {
          "base_uri": "https://localhost:8080/"
        },
        "id": "1AvEH7ZJGzCG",
        "outputId": "c29b4857-2c53-4313-ac58-b94547dfd14a"
      },
      "execution_count": null,
      "outputs": [
        {
          "output_type": "stream",
          "name": "stdout",
          "text": [
            "<class 'bool'>\n"
          ]
        }
      ]
    },
    {
      "cell_type": "code",
      "source": [
        "# 6) Predict the output:\n",
        "print(type(10) == type(10.0))\n",
        " # 10 = int\n",
        " # 10.0 = float\n",
        " #int vs flot hence its flase\n"
      ],
      "metadata": {
        "colab": {
          "base_uri": "https://localhost:8080/"
        },
        "id": "zLh11J1OHllo",
        "outputId": "b17cee35-c24c-48cf-d727-656d606544b3"
      },
      "execution_count": null,
      "outputs": [
        {
          "output_type": "stream",
          "name": "stdout",
          "text": [
            "False\n"
          ]
        }
      ]
    },
    {
      "cell_type": "code",
      "source": [
        "#7) Create a string \"100\" and convert it into an integer.\n",
        "num = \"100\"\n",
        "print(type(int(str(num))))"
      ],
      "metadata": {
        "colab": {
          "base_uri": "https://localhost:8080/"
        },
        "id": "bH3y8zDIJpav",
        "outputId": "0ab58c85-a2a5-4af0-d2ca-734050f40b5b"
      },
      "execution_count": null,
      "outputs": [
        {
          "output_type": "stream",
          "name": "stdout",
          "text": [
            "<class 'int'>\n"
          ]
        }
      ]
    },
    {
      "cell_type": "code",
      "source": [
        "# 8) Convert an integer 255 into its binary string using bin().\n",
        "num = 255\n",
        "bin(num)\n"
      ],
      "metadata": {
        "colab": {
          "base_uri": "https://localhost:8080/",
          "height": 36
        },
        "id": "38Gxwqv3KTvn",
        "outputId": "0e836b69-2ea3-4d0f-df12-2650f330e41c"
      },
      "execution_count": null,
      "outputs": [
        {
          "output_type": "execute_result",
          "data": {
            "text/plain": [
              "'0b11111111'"
            ],
            "application/vnd.google.colaboratory.intrinsic+json": {
              "type": "string"
            }
          },
          "metadata": {},
          "execution_count": 34
        }
      ]
    },
    {
      "cell_type": "code",
      "source": [
        "#9) Convert the string \"3.5\" into a float and print it.\n",
        "num = \"3.5\"\n",
        "print(float(num))\n",
        "print(type(float(num)))"
      ],
      "metadata": {
        "colab": {
          "base_uri": "https://localhost:8080/"
        },
        "id": "cCbiZtzaKbxh",
        "outputId": "1b90d9cb-2c08-40b0-868b-aec166517196"
      },
      "execution_count": null,
      "outputs": [
        {
          "output_type": "stream",
          "name": "stdout",
          "text": [
            "3.5\n",
            "<class 'float'>\n"
          ]
        }
      ]
    },
    {
      "cell_type": "code",
      "source": [
        "#10) Which data type will python assign to x=2+3j\n",
        "x = 2+3j\n",
        "print(type(x))"
      ],
      "metadata": {
        "colab": {
          "base_uri": "https://localhost:8080/"
        },
        "id": "KeNu6593KkJ_",
        "outputId": "22736956-67f4-4c73-c004-d67d4c697cdb"
      },
      "execution_count": null,
      "outputs": [
        {
          "output_type": "stream",
          "name": "stdout",
          "text": [
            "<class 'complex'>\n"
          ]
        }
      ]
    },
    {
      "cell_type": "code",
      "source": [
        "#11) Concatenate the integer 25 with the string \" years old\" (hint: use str()).\n",
        "age = 25\n",
        "print(str(age) + \" years old\")\n"
      ],
      "metadata": {
        "colab": {
          "base_uri": "https://localhost:8080/"
        },
        "id": "ki8VKhFELYO5",
        "outputId": "558e4cc8-1293-4bd3-ac0c-a924acd6deb3"
      },
      "execution_count": null,
      "outputs": [
        {
          "output_type": "stream",
          "name": "stdout",
          "text": [
            "25 years old\n"
          ]
        }
      ]
    },
    {
      "cell_type": "code",
      "source": [
        "#12) Convert a list [1, 2, 3] into a tuple.\n",
        "x = [1,2,3]\n",
        "print(tuple(x))"
      ],
      "metadata": {
        "colab": {
          "base_uri": "https://localhost:8080/"
        },
        "id": "_7pJbh7QLcUm",
        "outputId": "2a434cb5-be0a-4759-8c07-ab5d2780a380"
      },
      "execution_count": null,
      "outputs": [
        {
          "output_type": "stream",
          "name": "stdout",
          "text": [
            "(1, 2, 3)\n"
          ]
        }
      ]
    },
    {
      "cell_type": "code",
      "source": [
        "#13) Convert a tuple (1, 2, 3) into a list\n",
        "x = (1,2,3)\n",
        "print(list(x))"
      ],
      "metadata": {
        "colab": {
          "base_uri": "https://localhost:8080/"
        },
        "id": "ni2r1sdePgSU",
        "outputId": "df10164e-5abf-4115-ef41-0b1d4c7005fc"
      },
      "execution_count": null,
      "outputs": [
        {
          "output_type": "stream",
          "name": "stdout",
          "text": [
            "[1, 2, 3]\n"
          ]
        }
      ]
    },
    {
      "cell_type": "code",
      "source": [
        "#14) Convert a list [1, 2, 2, 3] into a set. What happens to duplicates?\n",
        "x=[1,2,2,3]\n",
        "print(set(x)) #duplicates are removed"
      ],
      "metadata": {
        "colab": {
          "base_uri": "https://localhost:8080/"
        },
        "id": "oj8vsCNMPrjL",
        "outputId": "7f1b9918-b75b-4da8-e05a-9c38890a565d"
      },
      "execution_count": null,
      "outputs": [
        {
          "output_type": "stream",
          "name": "stdout",
          "text": [
            "{1, 2, 3}\n"
          ]
        }
      ]
    },
    {
      "cell_type": "code",
      "source": [
        "#15) Convert a string \"hello\" into a list of characters.\n",
        "x = \"hello\"\n",
        "print(list(x))"
      ],
      "metadata": {
        "colab": {
          "base_uri": "https://localhost:8080/"
        },
        "id": "ScaOjtXnQIbQ",
        "outputId": "dd19d46d-4022-4166-a3c3-08a592a6205e"
      },
      "execution_count": null,
      "outputs": [
        {
          "output_type": "stream",
          "name": "stdout",
          "text": [
            "['h', 'e', 'l', 'l', 'o']\n"
          ]
        }
      ]
    },
    {
      "cell_type": "code",
      "source": [
        "#16 Convert a list of characters ['h', 'e', 'l', 'l', 'o'] back into a string.\n",
        "x = ['h','e','l','l','0']\n",
        "print(\"\".join(x))\n"
      ],
      "metadata": {
        "colab": {
          "base_uri": "https://localhost:8080/"
        },
        "id": "A0BMPVG_QB6X",
        "outputId": "979be474-c229-4d72-e2a6-16928359a366"
      },
      "execution_count": null,
      "outputs": [
        {
          "output_type": "stream",
          "name": "stdout",
          "text": [
            "hell0\n"
          ]
        }
      ]
    },
    {
      "cell_type": "code",
      "source": [
        "#17 What is the type of the result in 5 / 2?\n",
        "x = 5/2\n",
        "print(type(x))"
      ],
      "metadata": {
        "colab": {
          "base_uri": "https://localhost:8080/"
        },
        "id": "1nAUZmy3Qzkw",
        "outputId": "2e855fcd-0e90-40c4-999a-98583fea0685"
      },
      "execution_count": null,
      "outputs": [
        {
          "output_type": "stream",
          "name": "stdout",
          "text": [
            "<class 'float'>\n"
          ]
        }
      ]
    },
    {
      "cell_type": "code",
      "source": [
        "#18 Predict the type of 5 // 2\n",
        "x = 5//2\n",
        "print(type(x))"
      ],
      "metadata": {
        "colab": {
          "base_uri": "https://localhost:8080/"
        },
        "id": "-_uep8z4R9sH",
        "outputId": "e1e1e156-6072-463d-a63b-f9aefcaced4c"
      },
      "execution_count": null,
      "outputs": [
        {
          "output_type": "stream",
          "name": "stdout",
          "text": [
            "<class 'int'>\n"
          ]
        }
      ]
    },
    {
      "cell_type": "code",
      "source": [
        "#19 What is the output of type(True + 5)?\n",
        "x = type(True+5)\n",
        "print(x)"
      ],
      "metadata": {
        "colab": {
          "base_uri": "https://localhost:8080/"
        },
        "id": "DCUmQa9iTGzc",
        "outputId": "abb72740-3a63-4087-8d5f-1192b7c9176d"
      },
      "execution_count": null,
      "outputs": [
        {
          "output_type": "stream",
          "name": "stdout",
          "text": [
            "<class 'int'>\n"
          ]
        }
      ]
    },
    {
      "cell_type": "code",
      "source": [
        "#20 Convert the character 'Z' into its ASCII number.\n",
        "print(ord('Z'))\n"
      ],
      "metadata": {
        "colab": {
          "base_uri": "https://localhost:8080/"
        },
        "id": "1XP4OhjMTOxo",
        "outputId": "223c60ed-646b-490a-b319-20bfa27ee5e2"
      },
      "execution_count": null,
      "outputs": [
        {
          "output_type": "stream",
          "name": "stdout",
          "text": [
            "90\n"
          ]
        }
      ]
    },
    {
      "cell_type": "code",
      "source": [
        "#21) Convert the integer 65 into its corresponding ASCII character.\n",
        "print(chr(65))"
      ],
      "metadata": {
        "colab": {
          "base_uri": "https://localhost:8080/"
        },
        "id": "VtfZHxoEUjM7",
        "outputId": "186ebc7c-a706-4112-eb83-52a807f183cb"
      },
      "execution_count": null,
      "outputs": [
        {
          "output_type": "stream",
          "name": "stdout",
          "text": [
            "A\n"
          ]
        }
      ]
    },
    {
      "cell_type": "code",
      "source": [
        "#22) Convert 255 into binary, octal, and hexadecimal.\n",
        "num = 255\n",
        "print(bin(num))\n",
        "print(oct(num))\n",
        "print(hex(num))"
      ],
      "metadata": {
        "colab": {
          "base_uri": "https://localhost:8080/"
        },
        "id": "ghR5Sa1BUnTB",
        "outputId": "21467510-4987-4d73-f998-8d150885b1c5"
      },
      "execution_count": null,
      "outputs": [
        {
          "output_type": "stream",
          "name": "stdout",
          "text": [
            "0b11111111\n",
            "0o377\n",
            "0xff\n"
          ]
        }
      ]
    },
    {
      "cell_type": "code",
      "source": [
        "#23 Convert the string \"3.1415\" into a float.\n",
        "num = \"3.1415\"\n",
        "print(float(num))\n",
        "print(type(float(num)))"
      ],
      "metadata": {
        "colab": {
          "base_uri": "https://localhost:8080/"
        },
        "id": "xNedn6bAUyZ-",
        "outputId": "17019c11-cbe9-42fd-d5fb-c39c5797b5c7"
      },
      "execution_count": null,
      "outputs": [
        {
          "output_type": "stream",
          "name": "stdout",
          "text": [
            "3.1415\n",
            "<class 'float'>\n"
          ]
        }
      ]
    },
    {
      "cell_type": "code",
      "source": [
        "#24 What happens if you try int(\"3.14\")? How to fix it?\n",
        "num = \"3.14\"\n",
        "print(int(float(num)))"
      ],
      "metadata": {
        "colab": {
          "base_uri": "https://localhost:8080/"
        },
        "id": "Q5Ew2NFwVDxD",
        "outputId": "6c3c8947-2941-43bf-fdfa-b995540bdd31"
      },
      "execution_count": null,
      "outputs": [
        {
          "output_type": "stream",
          "name": "stdout",
          "text": [
            "3\n"
          ]
        }
      ]
    },
    {
      "cell_type": "code",
      "source": [
        "#25 Convert the string \"1,2,3,4\" into a list of integers [1,2,3,4].\n",
        "num = \"1,2,3,4\"\n",
        "print(list(map(int,num.split(\",\"))))"
      ],
      "metadata": {
        "colab": {
          "base_uri": "https://localhost:8080/"
        },
        "id": "5kjOdKJAVU-u",
        "outputId": "8e9b9f04-d8b2-4c68-9be5-957dcd2b3cef"
      },
      "execution_count": null,
      "outputs": [
        {
          "output_type": "stream",
          "name": "stdout",
          "text": [
            "[1, 2, 3, 4]\n"
          ]
        }
      ]
    },
    {
      "cell_type": "code",
      "source": [
        "#26 Convert the dictionary {\"a\": 1, \"b\": 2} into a list of tuples.\n",
        "num = {\"a\": 1, \"b\": 2}\n",
        "print(list(num.items()))"
      ],
      "metadata": {
        "id": "f-fPmzxYWF0Q",
        "colab": {
          "base_uri": "https://localhost:8080/"
        },
        "outputId": "22a29267-ffe2-44d9-a902-fc353f4cbb1f"
      },
      "execution_count": 2,
      "outputs": [
        {
          "output_type": "stream",
          "name": "stdout",
          "text": [
            "[('a', 1), ('b', 2)]\n"
          ]
        }
      ]
    },
    {
      "cell_type": "code",
      "source": [
        "#27 Convert the list of tuples [(\"x\", 10), (\"y\", 20)] back into a dictionary.\n",
        "num = [(\"x\",10),(\"y\",20)]\n",
        "print(dict(num))"
      ],
      "metadata": {
        "colab": {
          "base_uri": "https://localhost:8080/"
        },
        "id": "Oasgc0dyJzyb",
        "outputId": "198db8b6-0562-4597-87cd-94baba070866"
      },
      "execution_count": 6,
      "outputs": [
        {
          "output_type": "stream",
          "name": "stdout",
          "text": [
            "{'x': 10, 'y': 20}\n"
          ]
        }
      ]
    },
    {
      "cell_type": "code",
      "source": [
        "#28 Write a program that reads input as a string and prints it as integer, float, and string\n",
        "num = input(\"enter a number: \")\n",
        "print(int(num))\n",
        "print(float(num))\n",
        "print(str(num))"
      ],
      "metadata": {
        "colab": {
          "base_uri": "https://localhost:8080/"
        },
        "id": "o4GGu1hbKkux",
        "outputId": "dbea7ff8-e1be-44a7-a5c4-3fe40f611da6"
      },
      "execution_count": 9,
      "outputs": [
        {
          "output_type": "stream",
          "name": "stdout",
          "text": [
            "enter a number: 42\n",
            "42\n",
            "42.0\n",
            "42\n"
          ]
        }
      ]
    },
    {
      "cell_type": "code",
      "source": [
        "#29 Why does set([1, 2, [3, 4]]) cause an error? Explain.\n",
        "set([1,2,[3,4]])\n",
        "# Reason: lists are mutable, sets only allow immutable (hashable) elements.\n"
      ],
      "metadata": {
        "colab": {
          "base_uri": "https://localhost:8080/",
          "height": 183
        },
        "id": "_ZCpV-SDMgt8",
        "outputId": "a40a11b3-dc2e-43cb-a9b5-33a23ce1511f"
      },
      "execution_count": 10,
      "outputs": [
        {
          "output_type": "error",
          "ename": "TypeError",
          "evalue": "unhashable type: 'list'",
          "traceback": [
            "\u001b[0;31m---------------------------------------------------------------------------\u001b[0m",
            "\u001b[0;31mTypeError\u001b[0m                                 Traceback (most recent call last)",
            "\u001b[0;32m/tmp/ipython-input-2403763905.py\u001b[0m in \u001b[0;36m<cell line: 0>\u001b[0;34m()\u001b[0m\n\u001b[1;32m      1\u001b[0m \u001b[0;31m#29 Why does set([1, 2, [3, 4]]) cause an error? Explain.\u001b[0m\u001b[0;34m\u001b[0m\u001b[0;34m\u001b[0m\u001b[0m\n\u001b[0;32m----> 2\u001b[0;31m \u001b[0mset\u001b[0m\u001b[0;34m(\u001b[0m\u001b[0;34m[\u001b[0m\u001b[0;36m1\u001b[0m\u001b[0;34m,\u001b[0m\u001b[0;36m2\u001b[0m\u001b[0;34m,\u001b[0m\u001b[0;34m[\u001b[0m\u001b[0;36m3\u001b[0m\u001b[0;34m,\u001b[0m\u001b[0;36m4\u001b[0m\u001b[0;34m]\u001b[0m\u001b[0;34m]\u001b[0m\u001b[0;34m)\u001b[0m\u001b[0;34m\u001b[0m\u001b[0;34m\u001b[0m\u001b[0m\n\u001b[0m\u001b[1;32m      3\u001b[0m \u001b[0;31m# Reason: lists are mutable, sets only allow immutable (hashable) elements.\u001b[0m\u001b[0;34m\u001b[0m\u001b[0;34m\u001b[0m\u001b[0m\n",
            "\u001b[0;31mTypeError\u001b[0m: unhashable type: 'list'"
          ]
        }
      ]
    },
    {
      "cell_type": "code",
      "source": [
        "#30 Create a list of numbers [1, 2, 3, 4] and convert it into a string \"1 2 3 4\".\n",
        "num = [1,2,3,4]\n",
        "str = \" \".join(map(str,num))\n",
        "print(str)"
      ],
      "metadata": {
        "colab": {
          "base_uri": "https://localhost:8080/"
        },
        "id": "RhCWQEj7Sku1",
        "outputId": "2af94281-ed99-412d-f4e8-bc6c7a43c4e4"
      },
      "execution_count": 11,
      "outputs": [
        {
          "output_type": "stream",
          "name": "stdout",
          "text": [
            "1 2 3 4\n"
          ]
        }
      ]
    }
  ]
}