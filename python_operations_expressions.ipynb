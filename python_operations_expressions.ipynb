{
  "nbformat": 4,
  "nbformat_minor": 5,
  "metadata": {
    "colab": {
      "provenance": [],
      "include_colab_link": true
    },
    "language_info": {
      "name": "python"
    },
    "kernelspec": {
      "name": "python3",
      "display_name": "Python 3"
    }
  },
  "cells": [
    {
      "cell_type": "markdown",
      "metadata": {
        "id": "view-in-github",
        "colab_type": "text"
      },
      "source": [
        "<a href=\"https://colab.research.google.com/github/VijayDalali/Python/blob/main/python_operations_expressions.ipynb\" target=\"_parent\"><img src=\"https://colab.research.google.com/assets/colab-badge.svg\" alt=\"Open In Colab\"/></a>"
      ]
    },
    {
      "id": "9fc33157",
      "cell_type": "code",
      "metadata": {
        "colab": {
          "base_uri": "https://localhost:8080/"
        },
        "id": "9fc33157",
        "outputId": "04f3b9c1-1d3f-4e45-a52d-3f27aeb18478"
      },
      "execution_count": 73,
      "source": [
        "a, b = 10, 5 # adding two num\n",
        "print(a + b)"
      ],
      "outputs": [
        {
          "output_type": "stream",
          "name": "stdout",
          "text": [
            "15\n"
          ]
        }
      ]
    },
    {
      "id": "96edf768",
      "cell_type": "code",
      "metadata": {
        "colab": {
          "base_uri": "https://localhost:8080/"
        },
        "id": "96edf768",
        "outputId": "a7294d23-1172-42ee-dba2-1bafb3d8f5d7"
      },
      "execution_count": 74,
      "source": [
        "a, b = 10, 5 #subtract two num\n",
        "print(a - b)"
      ],
      "outputs": [
        {
          "output_type": "stream",
          "name": "stdout",
          "text": [
            "5\n"
          ]
        }
      ]
    },
    {
      "id": "b293dd05",
      "cell_type": "code",
      "metadata": {
        "colab": {
          "base_uri": "https://localhost:8080/"
        },
        "id": "b293dd05",
        "outputId": "6c2e6280-54a8-4413-9813-645fd6a81861"
      },
      "execution_count": 75,
      "source": [
        "a, b = 10, 5 #Multiply two numbers\n",
        "print(a * b)"
      ],
      "outputs": [
        {
          "output_type": "stream",
          "name": "stdout",
          "text": [
            "50\n"
          ]
        }
      ]
    },
    {
      "id": "b622d117",
      "cell_type": "code",
      "metadata": {
        "colab": {
          "base_uri": "https://localhost:8080/"
        },
        "id": "b622d117",
        "outputId": "767baca0-f565-4c6a-806b-ae4665078cdb"
      },
      "execution_count": 76,
      "source": [
        "a, b = 10, 5 #Divide two num\n",
        "print(a / b)"
      ],
      "outputs": [
        {
          "output_type": "stream",
          "name": "stdout",
          "text": [
            "2.0\n"
          ]
        }
      ]
    },
    {
      "id": "afddf4c4",
      "cell_type": "code",
      "metadata": {
        "colab": {
          "base_uri": "https://localhost:8080/"
        },
        "id": "afddf4c4",
        "outputId": "d00ad2fb-5f6c-4f52-beb0-03ea973c2c20"
      },
      "execution_count": 77,
      "source": [
        "a, b = 10, 3 #Remainder\n",
        "print(a % b)"
      ],
      "outputs": [
        {
          "output_type": "stream",
          "name": "stdout",
          "text": [
            "1\n"
          ]
        }
      ]
    },
    {
      "id": "b793e603",
      "cell_type": "code",
      "metadata": {
        "colab": {
          "base_uri": "https://localhost:8080/"
        },
        "id": "b793e603",
        "outputId": "106cfa8c-331f-400b-c27e-3318dbe23010"
      },
      "execution_count": 78,
      "source": [
        "print(2 ** 3)  # Power of number"
      ],
      "outputs": [
        {
          "output_type": "stream",
          "name": "stdout",
          "text": [
            "8\n"
          ]
        }
      ]
    },
    {
      "id": "adc3083f",
      "cell_type": "code",
      "metadata": {
        "colab": {
          "base_uri": "https://localhost:8080/"
        },
        "id": "adc3083f",
        "outputId": "03082408-dcde-490b-d12b-43db504155df"
      },
      "execution_count": 79,
      "source": [
        "print(10 // 3)  # Floor Division"
      ],
      "outputs": [
        {
          "output_type": "stream",
          "name": "stdout",
          "text": [
            "3\n"
          ]
        }
      ]
    },
    {
      "id": "d9e3dfdd",
      "cell_type": "code",
      "metadata": {
        "colab": {
          "base_uri": "https://localhost:8080/"
        },
        "id": "d9e3dfdd",
        "outputId": "7819865a-ca71-42a6-a7ff-513de7d98059"
      },
      "execution_count": 80,
      "source": [
        "a, b = 5, 7  # Swap data in variable using arithmetic\n",
        "a = a + b\n",
        "b = a - b\n",
        "a = a - b\n",
        "print(a, b)"
      ],
      "outputs": [
        {
          "output_type": "stream",
          "name": "stdout",
          "text": [
            "7 5\n"
          ]
        }
      ]
    },
    {
      "id": "9cac2f84",
      "cell_type": "code",
      "metadata": {
        "colab": {
          "base_uri": "https://localhost:8080/"
        },
        "id": "9cac2f84",
        "outputId": "12f2647c-8111-4617-8b0b-64204d220add"
      },
      "execution_count": 81,
      "source": [
        "n = 7 #Check even number or not\n",
        "print(n % 2 == 0)"
      ],
      "outputs": [
        {
          "output_type": "stream",
          "name": "stdout",
          "text": [
            "False\n"
          ]
        }
      ]
    },
    {
      "id": "7294cd61",
      "cell_type": "code",
      "metadata": {
        "colab": {
          "base_uri": "https://localhost:8080/"
        },
        "id": "7294cd61",
        "outputId": "4b8846ec-0811-4782-c8c6-fefef683a0a6"
      },
      "execution_count": 82,
      "source": [
        "n = 30 #num should be divisible by 3 and 5\n",
        "print(n % 3 == 0 and n % 5 == 0)"
      ],
      "outputs": [
        {
          "output_type": "stream",
          "name": "stdout",
          "text": [
            "True\n"
          ]
        }
      ]
    },
    {
      "id": "19437287",
      "cell_type": "code",
      "metadata": {
        "colab": {
          "base_uri": "https://localhost:8080/"
        },
        "id": "19437287",
        "outputId": "2356738c-94e9-431e-a086-e23ee97f9c95"
      },
      "execution_count": 83,
      "source": [
        "a, b = 10, 5 #Compare two number\n",
        "if a > b:\n",
        "    print('a is greater')\n",
        "elif a < b:\n",
        "    print('b is greater')\n",
        "else:\n",
        "    print('Both equal')"
      ],
      "outputs": [
        {
          "output_type": "stream",
          "name": "stdout",
          "text": [
            "a is greater\n"
          ]
        }
      ]
    },
    {
      "id": "469c3794",
      "cell_type": "code",
      "metadata": {
        "colab": {
          "base_uri": "https://localhost:8080/"
        },
        "id": "469c3794",
        "outputId": "57bb4a07-be5c-4cfe-f9cf-520f28428a51"
      },
      "execution_count": 84,
      "source": [
        "n = 55 # Given Number is between 10 and 50 or not!\n",
        "print(10 <= n <= 50)"
      ],
      "outputs": [
        {
          "output_type": "stream",
          "name": "stdout",
          "text": [
            "False\n"
          ]
        }
      ]
    },
    {
      "id": "2bfdab51",
      "cell_type": "code",
      "metadata": {
        "colab": {
          "base_uri": "https://localhost:8080/"
        },
        "id": "2bfdab51",
        "outputId": "3ca0a79d-c746-411d-c12e-2bae6d5c4daf"
      },
      "execution_count": 85,
      "source": [
        "a, b, c = 10, 25, 35\n",
        "largest = (a if a > b else b) if ((a if a > b else b) > c) else c\n",
        "print(largest)"
      ],
      "outputs": [
        {
          "output_type": "stream",
          "name": "stdout",
          "text": [
            "35\n"
          ]
        }
      ]
    },
    {
      "id": "fe378f68",
      "cell_type": "code",
      "metadata": {
        "colab": {
          "base_uri": "https://localhost:8080/"
        },
        "id": "fe378f68",
        "outputId": "f72a4121-9072-40f2-d635-28b8dee196e8"
      },
      "execution_count": 86,
      "source": [
        "n = 5 #Given number is postive|negative|zero\n",
        "if n > 0:\n",
        "    print('Positive')\n",
        "elif n < 0:\n",
        "    print('Negative')\n",
        "else:\n",
        "    print('Zero')"
      ],
      "outputs": [
        {
          "output_type": "stream",
          "name": "stdout",
          "text": [
            "Positive\n"
          ]
        }
      ]
    },
    {
      "id": "64ddb429",
      "cell_type": "code",
      "metadata": {
        "colab": {
          "base_uri": "https://localhost:8080/"
        },
        "id": "64ddb429",
        "outputId": "cd80c304-352f-4cf0-f371-cecaa7fb7051"
      },
      "execution_count": 87,
      "source": [
        "age, citizen = 19, True # Voting eligibility\n",
        "print(age >= 18 and citizen)"
      ],
      "outputs": [
        {
          "output_type": "stream",
          "name": "stdout",
          "text": [
            "True\n"
          ]
        }
      ]
    },
    {
      "id": "568f2a99",
      "cell_type": "code",
      "metadata": {
        "colab": {
          "base_uri": "https://localhost:8080/"
        },
        "id": "568f2a99",
        "outputId": "a67d7270-f73f-432d-cd49-cbc85ce8f409"
      },
      "execution_count": 88,
      "source": [
        "n = 64 #Find the square root\n",
        "print(n ** 0.5)"
      ],
      "outputs": [
        {
          "output_type": "stream",
          "name": "stdout",
          "text": [
            "8.0\n"
          ]
        }
      ]
    },
    {
      "id": "f0bfdf02",
      "cell_type": "code",
      "metadata": {
        "colab": {
          "base_uri": "https://localhost:8080/"
        },
        "id": "f0bfdf02",
        "outputId": "6f55b207-bb88-4816-fd0f-9bd11f611096"
      },
      "execution_count": 89,
      "source": [
        "a, b, c = 7, 10, 5 #Triangle Check\n",
        "print(a + b > c and a + c > b and b + c > a)"
      ],
      "outputs": [
        {
          "output_type": "stream",
          "name": "stdout",
          "text": [
            "True\n"
          ]
        }
      ]
    },
    {
      "id": "4b6a11cc",
      "cell_type": "code",
      "metadata": {
        "colab": {
          "base_uri": "https://localhost:8080/"
        },
        "id": "4b6a11cc",
        "outputId": "945566a8-6f62-4a0a-b566-81fae6dd2685"
      },
      "execution_count": 90,
      "source": [
        "n = 69 #Reverse two-digit number\n",
        "rev = (n % 10) * 10 + (n // 10)\n",
        "print(rev)"
      ],
      "outputs": [
        {
          "output_type": "stream",
          "name": "stdout",
          "text": [
            "96\n"
          ]
        }
      ]
    },
    {
      "id": "024eab73",
      "cell_type": "code",
      "metadata": {
        "colab": {
          "base_uri": "https://localhost:8080/"
        },
        "id": "024eab73",
        "outputId": "f56cb6ee-6ed8-4c96-f8a4-d433afdd47ae"
      },
      "execution_count": 91,
      "source": [
        "r = 5 #Area of Cricle\n",
        "area = 3.14 * r ** 2\n",
        "print(area)"
      ],
      "outputs": [
        {
          "output_type": "stream",
          "name": "stdout",
          "text": [
            "78.5\n"
          ]
        }
      ]
    },
    {
      "id": "9741d25c",
      "cell_type": "code",
      "metadata": {
        "colab": {
          "base_uri": "https://localhost:8080/"
        },
        "id": "9741d25c",
        "outputId": "61fa1fb0-b04e-4d6a-8264-4ad932eb14d8"
      },
      "execution_count": 92,
      "source": [
        "marks = [80, 90, 75, 85, 95] #Sum of marks total and average\n",
        "total = sum(marks)\n",
        "avg = total / 5\n",
        "print(total, avg)   # 425 85.0"
      ],
      "outputs": [
        {
          "output_type": "stream",
          "name": "stdout",
          "text": [
            "425 85.0\n"
          ]
        }
      ]
    },
    {
      "id": "398f1fba",
      "cell_type": "code",
      "metadata": {
        "colab": {
          "base_uri": "https://localhost:8080/"
        },
        "id": "398f1fba",
        "outputId": "e63df492-309e-43fa-be1c-c36a3842ca6e"
      },
      "execution_count": 93,
      "source": [
        "n = 553 # Sum of three_digit number\n",
        "s = (n // 100) + (n // 10 % 10) + (n % 10)\n",
        "print(s)"
      ],
      "outputs": [
        {
          "output_type": "stream",
          "name": "stdout",
          "text": [
            "13\n"
          ]
        }
      ]
    },
    {
      "id": "83d0e017",
      "cell_type": "code",
      "metadata": {
        "colab": {
          "base_uri": "https://localhost:8080/"
        },
        "id": "83d0e017",
        "outputId": "0817f404-11d7-42fa-879e-0d264e1e91fe"
      },
      "execution_count": 94,
      "source": [
        "n = 153 # Armstrong num check\n",
        "s = (n // 100) ** 3 + (n // 10 % 10) ** 3 + (n % 10) ** 3\n",
        "print(s == n)   # True"
      ],
      "outputs": [
        {
          "output_type": "stream",
          "name": "stdout",
          "text": [
            "True\n"
          ]
        }
      ]
    },
    {
      "id": "b2ea24bc",
      "cell_type": "code",
      "metadata": {
        "colab": {
          "base_uri": "https://localhost:8080/"
        },
        "id": "b2ea24bc",
        "outputId": "5b6ccec4-fcd1-4a7c-f8be-c2a7ebd64b83"
      },
      "execution_count": 95,
      "source": [
        "year = 2026 #Leap Year\n",
        "print(year % 4 == 0 and (year % 100 != 0 or year % 400 == 0))  # True"
      ],
      "outputs": [
        {
          "output_type": "stream",
          "name": "stdout",
          "text": [
            "False\n"
          ]
        }
      ]
    },
    {
      "id": "15bb5d85",
      "cell_type": "code",
      "metadata": {
        "colab": {
          "base_uri": "https://localhost:8080/"
        },
        "id": "15bb5d85",
        "outputId": "00ba0d78-8a17-4f37-dba2-a896439777d2"
      },
      "execution_count": 96,
      "source": [
        "c = 55 # Convert celsius to Fahrenheit\n",
        "f = (c * 9/5) + 32\n",
        "print(f)"
      ],
      "outputs": [
        {
          "output_type": "stream",
          "name": "stdout",
          "text": [
            "131.0\n"
          ]
        }
      ]
    },
    {
      "id": "7f6793bf",
      "cell_type": "code",
      "metadata": {
        "colab": {
          "base_uri": "https://localhost:8080/"
        },
        "id": "7f6793bf",
        "outputId": "aadde34b-acde-4f33-f6fe-de1c8c2b3bd5"
      },
      "execution_count": 97,
      "source": [
        "p, r, t = 1000, 50, 2 #Simple interest\n",
        "si = (p * r * t) / 100\n",
        "print(si)"
      ],
      "outputs": [
        {
          "output_type": "stream",
          "name": "stdout",
          "text": [
            "1000.0\n"
          ]
        }
      ]
    },
    {
      "id": "05ddf144",
      "cell_type": "code",
      "metadata": {
        "colab": {
          "base_uri": "https://localhost:8080/"
        },
        "id": "05ddf144",
        "outputId": "37a07fa8-632a-4c57-e869-7ddfbd380599"
      },
      "execution_count": 98,
      "source": [
        "p, r, t = 1000, 5, 2 #Compound Interest\n",
        "ci = p * ((1 + r/100) ** t) - p\n",
        "print(ci)   # 102.5"
      ],
      "outputs": [
        {
          "output_type": "stream",
          "name": "stdout",
          "text": [
            "102.5\n"
          ]
        }
      ]
    },
    {
      "id": "b3c232cd",
      "cell_type": "code",
      "metadata": {
        "colab": {
          "base_uri": "https://localhost:8080/"
        },
        "id": "b3c232cd",
        "outputId": "75217ac0-392a-49fc-9e86-bbdd76e72075"
      },
      "execution_count": 99,
      "source": [
        "x1, y1, x2, y2 = 1, 2, 4, 6 #Distance between two points\n",
        "dist = ((x2 - x1)**2 + (y2 - y1)**2) ** 0.5\n",
        "print(dist)   # 5.0"
      ],
      "outputs": [
        {
          "output_type": "stream",
          "name": "stdout",
          "text": [
            "5.0\n"
          ]
        }
      ]
    },
    {
      "id": "9623a8ee",
      "cell_type": "code",
      "metadata": {
        "colab": {
          "base_uri": "https://localhost:8080/"
        },
        "id": "9623a8ee",
        "outputId": "06b05153-186d-4830-b03b-3e4cad073c0f"
      },
      "execution_count": 100,
      "source": [
        "x1, y1, x2, y2 = 1, 2, 4, 6  #Slope of line\n",
        "slope = (y2 - y1) / (x2 - x1)\n",
        "print(slope)   # 1.333..."
      ],
      "outputs": [
        {
          "output_type": "stream",
          "name": "stdout",
          "text": [
            "1.3333333333333333\n"
          ]
        }
      ]
    },
    {
      "id": "e105713d",
      "cell_type": "code",
      "metadata": {
        "colab": {
          "base_uri": "https://localhost:8080/"
        },
        "id": "e105713d",
        "outputId": "b845a68c-b07a-4e7c-cf81-b8fdf4eb48c8"
      },
      "execution_count": 101,
      "source": [
        "a, b, c = 1, -3, 2 #Quadratics roots\n",
        "d = (b**2 - 4*a*c) ** 0.5\n",
        "root1 = (-b + d) / (2*a)\n",
        "root2 = (-b - d) / (2*a)\n",
        "print(root1, root2)   # 2.0 1.0"
      ],
      "outputs": [
        {
          "output_type": "stream",
          "name": "stdout",
          "text": [
            "2.0 1.0\n"
          ]
        }
      ]
    },
    {
      "id": "29667801",
      "cell_type": "code",
      "metadata": {
        "colab": {
          "base_uri": "https://localhost:8080/"
        },
        "id": "29667801",
        "outputId": "4235f3aa-877b-4283-9e04-f2b140708d11"
      },
      "execution_count": 102,
      "source": [
        "days = 5533 # Days--> Years, Weeks, Days\n",
        "years = days // 365\n",
        "weeks = (days % 365) // 7\n",
        "days_left = (days % 365) % 7\n",
        "print(years, 'years', weeks, 'weeks', days_left, 'days')"
      ],
      "outputs": [
        {
          "output_type": "stream",
          "name": "stdout",
          "text": [
            "15 years 8 weeks 2 days\n"
          ]
        }
      ]
    },
    {
      "cell_type": "code",
      "source": [],
      "metadata": {
        "id": "OEt7fyKJhMG-"
      },
      "id": "OEt7fyKJhMG-",
      "execution_count": 102,
      "outputs": []
    }
  ]
}