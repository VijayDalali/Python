{
  "cells": [
    {
      "cell_type": "markdown",
      "metadata": {
        "id": "view-in-github",
        "colab_type": "text"
      },
      "source": [
        "<a href=\"https://colab.research.google.com/github/VijayDalali/Python/blob/main/python_functions_30_problems.ipynb\" target=\"_parent\"><img src=\"https://colab.research.google.com/assets/colab-badge.svg\" alt=\"Open In Colab\"/></a>"
      ]
    },
    {
      "cell_type": "code",
      "execution_count": 1,
      "id": "824df228",
      "metadata": {
        "colab": {
          "base_uri": "https://localhost:8080/"
        },
        "id": "824df228",
        "outputId": "ae87f492-2636-4219-eea5-8b81f4fa6331"
      },
      "outputs": [
        {
          "output_type": "stream",
          "name": "stdout",
          "text": [
            "Hello, World!\n"
          ]
        }
      ],
      "source": [
        "# Print Hello World\n",
        "def say_hello():\n",
        "    print(\"Hello, World!\")\n",
        "\n",
        "say_hello()"
      ]
    },
    {
      "cell_type": "code",
      "execution_count": 2,
      "id": "8abc055d",
      "metadata": {
        "colab": {
          "base_uri": "https://localhost:8080/"
        },
        "id": "8abc055d",
        "outputId": "7a524e95-8e7d-4d1a-d57d-e961491d4667"
      },
      "outputs": [
        {
          "output_type": "stream",
          "name": "stdout",
          "text": [
            "Hello, Vijay!\n"
          ]
        }
      ],
      "source": [
        "#Write a function that takes a name and prints a greeting.\n",
        "def greet(name):\n",
        "    print(f\"Hello, {name}!\")\n",
        "\n",
        "greet(\"Vijay\")"
      ]
    },
    {
      "cell_type": "code",
      "execution_count": 3,
      "id": "56a21135",
      "metadata": {
        "colab": {
          "base_uri": "https://localhost:8080/"
        },
        "id": "56a21135",
        "outputId": "307d784d-9d88-4532-a7fe-b6d9439d9379"
      },
      "outputs": [
        {
          "output_type": "stream",
          "name": "stdout",
          "text": [
            "Sum is: 8\n"
          ]
        }
      ],
      "source": [
        "# add sum\n",
        "def add(a, b):\n",
        "    print(\"Sum is:\", a + b)\n",
        "\n",
        "add(5, 3)"
      ]
    },
    {
      "cell_type": "code",
      "execution_count": 4,
      "id": "5b847d67",
      "metadata": {
        "colab": {
          "base_uri": "https://localhost:8080/"
        },
        "id": "5b847d67",
        "outputId": "dd606b53-75ea-41a9-9a68-92b3145a3b06"
      },
      "outputs": [
        {
          "output_type": "stream",
          "name": "stdout",
          "text": [
            "Product is: 24\n"
          ]
        }
      ],
      "source": [
        "#Write a function that multiplies two numbers and returns the result.\n",
        "def multiply(a, b):\n",
        "    return a * b\n",
        "\n",
        "print(\"Product is:\", multiply(4, 6))"
      ]
    },
    {
      "cell_type": "code",
      "execution_count": 5,
      "id": "44756497",
      "metadata": {
        "colab": {
          "base_uri": "https://localhost:8080/"
        },
        "id": "44756497",
        "outputId": "9add857f-464d-4505-c3e7-bcf6eaa36c90"
      },
      "outputs": [
        {
          "output_type": "stream",
          "name": "stdout",
          "text": [
            "Square of 7 is: 49\n"
          ]
        }
      ],
      "source": [
        "# Write a function that returns the square of a number.\n",
        "def square(n):\n",
        "    return n ** 2\n",
        "\n",
        "print(\"Square of 7 is:\", square(7))"
      ]
    },
    {
      "cell_type": "code",
      "execution_count": 6,
      "id": "c36074fc",
      "metadata": {
        "colab": {
          "base_uri": "https://localhost:8080/"
        },
        "id": "c36074fc",
        "outputId": "643b5506-0fd0-45d9-9de2-e58b3f3a7636"
      },
      "outputs": [
        {
          "output_type": "stream",
          "name": "stdout",
          "text": [
            "Factorial of 5: 120\n"
          ]
        }
      ],
      "source": [
        "#Write a function to calculate the factorial of a number.\n",
        "def factorial(n):\n",
        "    result = 1\n",
        "    for i in range(1, n+1):\n",
        "        result *= i\n",
        "    return result\n",
        "\n",
        "print(\"Factorial of 5:\", factorial(5))"
      ]
    },
    {
      "cell_type": "code",
      "execution_count": 7,
      "id": "542adeca",
      "metadata": {
        "colab": {
          "base_uri": "https://localhost:8080/"
        },
        "id": "542adeca",
        "outputId": "eb039386-f2af-47d4-fe46-65a10e7ea6ff"
      },
      "outputs": [
        {
          "output_type": "stream",
          "name": "stdout",
          "text": [
            "1 2 3 4 5 6 7 8 9 10 "
          ]
        }
      ],
      "source": [
        "#Write a function that prints the first 10 natural numbers.\n",
        "def print_natural():\n",
        "    for i in range(1, 11):\n",
        "        print(i, end=\" \")\n",
        "\n",
        "print_natural()"
      ]
    },
    {
      "cell_type": "code",
      "execution_count": 9,
      "id": "9b096e1f",
      "metadata": {
        "colab": {
          "base_uri": "https://localhost:8080/"
        },
        "id": "9b096e1f",
        "outputId": "bc3d4656-4c9e-4659-9ea5-98018943f1ae"
      },
      "outputs": [
        {
          "output_type": "stream",
          "name": "stdout",
          "text": [
            "11 is Odd\n"
          ]
        }
      ],
      "source": [
        "# Write a function to check whether a number is even or odd.\n",
        "def even_or_odd(n):\n",
        "    if n % 2 == 0:\n",
        "        print(n, \"is Even\")\n",
        "    else:\n",
        "        print(n, \"is Odd\")\n",
        "\n",
        "even_or_odd(11)"
      ]
    },
    {
      "cell_type": "code",
      "execution_count": 10,
      "id": "ff309ce0",
      "metadata": {
        "colab": {
          "base_uri": "https://localhost:8080/"
        },
        "id": "ff309ce0",
        "outputId": "e5fa823c-c974-4440-d956-57540b00eccb"
      },
      "outputs": [
        {
          "output_type": "stream",
          "name": "stdout",
          "text": [
            "Sum of 1 to 10: 55\n"
          ]
        }
      ],
      "source": [
        "#Write a function that returns the sum of numbers from 1 to n.\n",
        "def sum_n(n):\n",
        "    return sum(range(1, n+1))\n",
        "\n",
        "print(\"Sum of 1 to 10:\", sum_n(10))"
      ]
    },
    {
      "cell_type": "code",
      "execution_count": 11,
      "id": "41b3c3e7",
      "metadata": {
        "colab": {
          "base_uri": "https://localhost:8080/"
        },
        "id": "41b3c3e7",
        "outputId": "05e9f7e5-cd00-47a9-8bcc-8d393156d671"
      },
      "outputs": [
        {
          "output_type": "stream",
          "name": "stdout",
          "text": [
            "Max: 9\n"
          ]
        }
      ],
      "source": [
        "#Write a function to find the maximum element in a list.\n",
        "def max_in_list(lst):\n",
        "    return max(lst)\n",
        "\n",
        "print(\"Max:\", max_in_list([3, 7, 2, 9, 5]))"
      ]
    },
    {
      "cell_type": "code",
      "execution_count": 12,
      "id": "7a514994",
      "metadata": {
        "colab": {
          "base_uri": "https://localhost:8080/"
        },
        "id": "7a514994",
        "outputId": "463e85d5-84d8-4053-d7c4-a8fcb23412d2"
      },
      "outputs": [
        {
          "output_type": "stream",
          "name": "stdout",
          "text": [
            "Min: 2\n"
          ]
        }
      ],
      "source": [
        "#Write a function to find the minimum element in a list.\n",
        "def min_in_list(lst):\n",
        "    return min(lst)\n",
        "\n",
        "print(\"Min:\", min_in_list([3, 7, 2, 9, 5]))"
      ]
    },
    {
      "cell_type": "code",
      "execution_count": 14,
      "id": "d068645b",
      "metadata": {
        "colab": {
          "base_uri": "https://localhost:8080/"
        },
        "id": "d068645b",
        "outputId": "55b3f269-6bc2-4832-af5d-62090e55d6e9"
      },
      "outputs": [
        {
          "output_type": "stream",
          "name": "stdout",
          "text": [
            "Sum & Avg: (100, 25.0)\n"
          ]
        }
      ],
      "source": [
        "#Write a function that returns the sum and average of a list.\n",
        "def sum_and_avg(lst):\n",
        "    total = sum(lst)\n",
        "    avg = total / len(lst)\n",
        "    return total, avg\n",
        "\n",
        "print(\"Sum & Avg:\", sum_and_avg([10, 20, 30, 40]))"
      ]
    },
    {
      "cell_type": "code",
      "execution_count": 15,
      "id": "d8cc6d0c",
      "metadata": {
        "colab": {
          "base_uri": "https://localhost:8080/"
        },
        "id": "d8cc6d0c",
        "outputId": "31ecc78f-017b-4f03-e18a-97965a6330b7"
      },
      "outputs": [
        {
          "output_type": "stream",
          "name": "stdout",
          "text": [
            "GCD of 56 & 98: 14\n"
          ]
        }
      ],
      "source": [
        "#Write a function to find the GCD of two numbers.\n",
        "def gcd(a, b):\n",
        "    while b:\n",
        "        a, b = b, a % b\n",
        "    return a\n",
        "\n",
        "print(\"GCD of 56 & 98:\", gcd(56, 98))"
      ]
    },
    {
      "cell_type": "markdown",
      "id": "dbde6033",
      "metadata": {
        "id": "dbde6033"
      },
      "source": [
        "**Problem:** 14. Write a function to generate Fibonacci sequence up to n terms."
      ]
    },
    {
      "cell_type": "code",
      "execution_count": 16,
      "id": "feb8147c",
      "metadata": {
        "colab": {
          "base_uri": "https://localhost:8080/"
        },
        "id": "feb8147c",
        "outputId": "92deea8b-7d64-4581-a8b1-e09260e85f0d"
      },
      "outputs": [
        {
          "output_type": "stream",
          "name": "stdout",
          "text": [
            "Fibonacci (10 terms): [0, 1, 1, 2, 3, 5, 8, 13, 21, 34]\n"
          ]
        }
      ],
      "source": [
        "#Write a function to generate Fibonacci sequence up to n terms.\n",
        "def fibonacci(n):\n",
        "    seq = []\n",
        "    a, b = 0, 1\n",
        "    for _ in range(n):\n",
        "        seq.append(a)\n",
        "        a, b = b, a + b\n",
        "    return seq\n",
        "\n",
        "print(\"Fibonacci (10 terms):\", fibonacci(10))"
      ]
    },
    {
      "cell_type": "code",
      "execution_count": 18,
      "id": "15580ea9",
      "metadata": {
        "colab": {
          "base_uri": "https://localhost:8080/"
        },
        "id": "15580ea9",
        "outputId": "f0f46ad9-0c2d-4487-a2d0-5d057a556164"
      },
      "outputs": [
        {
          "output_type": "stream",
          "name": "stdout",
          "text": [
            "29 is prime? True\n"
          ]
        }
      ],
      "source": [
        "#Write a function to check if a number is prime.\n",
        "def is_prime(n):\n",
        "    if n < 2:\n",
        "        return False\n",
        "    for i in range(2, int(n**0.5)+1):\n",
        "        if n % i == 0:\n",
        "            return False\n",
        "    return True\n",
        "\n",
        "print(\"29 is prime?\", is_prime(29))"
      ]
    },
    {
      "cell_type": "code",
      "execution_count": 19,
      "id": "dd90ef5d",
      "metadata": {
        "colab": {
          "base_uri": "https://localhost:8080/"
        },
        "id": "dd90ef5d",
        "outputId": "e2fb3012-1116-4b4b-b9e1-7e8dd030103b"
      },
      "outputs": [
        {
          "output_type": "stream",
          "name": "stdout",
          "text": [
            "Primes 10-50: [11, 13, 17, 19, 23, 29, 31, 37, 41, 43, 47]\n"
          ]
        }
      ],
      "source": [
        "#Write a function to print all prime numbers in a range.\n",
        "def primes_in_range(start, end):\n",
        "    primes = []\n",
        "    for num in range(start, end+1):\n",
        "        if is_prime(num):\n",
        "            primes.append(num)\n",
        "    return primes\n",
        "\n",
        "print(\"Primes 10-50:\", primes_in_range(10, 50))"
      ]
    },
    {
      "cell_type": "code",
      "execution_count": 20,
      "id": "6a11c893",
      "metadata": {
        "colab": {
          "base_uri": "https://localhost:8080/"
        },
        "id": "6a11c893",
        "outputId": "a7418ee4-6d9f-486c-f30c-06335bf26f43"
      },
      "outputs": [
        {
          "output_type": "stream",
          "name": "stdout",
          "text": [
            "Local x: 10\n"
          ]
        }
      ],
      "source": [
        "#Write a function that demonstrates a local variable.\n",
        "def local_example():\n",
        "    x = 10\n",
        "    print(\"Local x:\", x)\n",
        "\n",
        "local_example()"
      ]
    },
    {
      "cell_type": "code",
      "execution_count": 21,
      "id": "104dd9fd",
      "metadata": {
        "colab": {
          "base_uri": "https://localhost:8080/"
        },
        "id": "104dd9fd",
        "outputId": "79d44926-b6db-41e3-f34e-ea49b80ebe2f"
      },
      "outputs": [
        {
          "output_type": "stream",
          "name": "stdout",
          "text": [
            "Inside function: 20\n"
          ]
        }
      ],
      "source": [
        "#Show that a variable inside a function is not accessible outside\n",
        "def scope_test():\n",
        "    y = 20\n",
        "    print(\"Inside function:\", y)\n",
        "\n",
        "scope_test()\n",
        "# print(y)  # ❌ Error"
      ]
    },
    {
      "cell_type": "code",
      "execution_count": 22,
      "id": "3448418b",
      "metadata": {
        "colab": {
          "base_uri": "https://localhost:8080/"
        },
        "id": "3448418b",
        "outputId": "ece171ec-aadf-46d4-8fa0-280cd858908b"
      },
      "outputs": [
        {
          "output_type": "stream",
          "name": "stdout",
          "text": [
            "Global z after modification: 150\n"
          ]
        }
      ],
      "source": [
        "#Modify a global variable inside a function.\n",
        "z = 100\n",
        "\n",
        "def modify_global():\n",
        "    global z\n",
        "    z += 50\n",
        "\n",
        "modify_global()\n",
        "print(\"Global z after modification:\", z)"
      ]
    },
    {
      "cell_type": "code",
      "execution_count": 23,
      "id": "32e9066e",
      "metadata": {
        "colab": {
          "base_uri": "https://localhost:8080/"
        },
        "id": "32e9066e",
        "outputId": "c7ea0203-f532-40be-fc04-92e57b20739d"
      },
      "outputs": [
        {
          "output_type": "stream",
          "name": "stdout",
          "text": [
            "Inside function x: 10\n",
            "Outside function x: 50\n"
          ]
        }
      ],
      "source": [
        "#Demonstrate variable shadowing.\n",
        "x = 50\n",
        "\n",
        "def shadowing():\n",
        "    x = 10\n",
        "    print(\"Inside function x:\", x)\n",
        "\n",
        "shadowing()\n",
        "print(\"Outside function x:\", x)"
      ]
    },
    {
      "cell_type": "code",
      "execution_count": 24,
      "id": "b6417554",
      "metadata": {
        "colab": {
          "base_uri": "https://localhost:8080/"
        },
        "id": "b6417554",
        "outputId": "2ce7b5e0-3b69-4f89-caa5-b344d0c576b6"
      },
      "outputs": [
        {
          "output_type": "stream",
          "name": "stdout",
          "text": [
            "Hello, Guest\n",
            "Hello, Ravi\n"
          ]
        }
      ],
      "source": [
        "#Write a function with default parameter.\n",
        "def greet_person(name=\"Guest\"):\n",
        "    print(\"Hello,\", name)\n",
        "\n",
        "greet_person()\n",
        "greet_person(\"Ravi\")"
      ]
    },
    {
      "cell_type": "code",
      "execution_count": 25,
      "id": "64bf4701",
      "metadata": {
        "colab": {
          "base_uri": "https://localhost:8080/"
        },
        "id": "64bf4701",
        "outputId": "bbd46ce5-4bc6-43f8-b953-a449506d25cb"
      },
      "outputs": [
        {
          "output_type": "stream",
          "name": "stdout",
          "text": [
            "My name is Arun and I am 21 years old.\n"
          ]
        }
      ],
      "source": [
        "#Demonstrate keyword arguments.\n",
        "def intro(name, age):\n",
        "    print(f\"My name is {name} and I am {age} years old.\")\n",
        "\n",
        "intro(age=21, name=\"Arun\")"
      ]
    },
    {
      "cell_type": "code",
      "execution_count": null,
      "id": "4e696d0b",
      "metadata": {
        "id": "4e696d0b"
      },
      "outputs": [],
      "source": [
        "#Demonstrate variable length arguments (*args and **kwargs)\n",
        "def demo_args(*args, **kwargs):\n",
        "    print(\"Args:\", args)\n",
        "    print(\"Kwargs:\", kwargs)\n",
        "\n",
        "demo_args(1, 2, 3, name=\"Vijay\", age=22)"
      ]
    },
    {
      "cell_type": "code",
      "execution_count": 26,
      "id": "efcb6907",
      "metadata": {
        "colab": {
          "base_uri": "https://localhost:8080/"
        },
        "id": "efcb6907",
        "outputId": "7c0cb4b9-ca5e-49ed-9a96-cee60dd3f7a3"
      },
      "outputs": [
        {
          "output_type": "stream",
          "name": "stdout",
          "text": [
            "5.0\n",
            "Error: Division by zero\n"
          ]
        }
      ],
      "source": [
        "#Write a function that divides two numbers with error handling.\n",
        "def safe_divide(a, b):\n",
        "    try:\n",
        "        return a / b\n",
        "    except ZeroDivisionError:\n",
        "        return \"Error: Division by zero\"\n",
        "\n",
        "print(safe_divide(10, 2))\n",
        "print(safe_divide(5, 0))"
      ]
    },
    {
      "cell_type": "code",
      "execution_count": 28,
      "id": "a4bd0057",
      "metadata": {
        "colab": {
          "base_uri": "https://localhost:8080/"
        },
        "id": "a4bd0057",
        "outputId": "a636ddfb-bfe5-4801-dfde-62bd723c9490"
      },
      "outputs": [
        {
          "output_type": "stream",
          "name": "stdout",
          "text": [
            "123\n",
            "Error: Not a valid integer\n"
          ]
        }
      ],
      "source": [
        "#Convert a string to integer with error handling.\n",
        "def safe_int(s):\n",
        "    try:\n",
        "        return int(s)\n",
        "    except ValueError:\n",
        "        return \"Error: Not a valid integer\"\n",
        "\n",
        "print(safe_int(\"123\"))\n",
        "print(safe_int(\"abc\"))"
      ]
    },
    {
      "cell_type": "code",
      "execution_count": 29,
      "id": "3538ea11",
      "metadata": {
        "colab": {
          "base_uri": "https://localhost:8080/"
        },
        "id": "3538ea11",
        "outputId": "8f58f987-8b4e-4f9e-dd84-5ed735e5ad20"
      },
      "outputs": [
        {
          "output_type": "stream",
          "name": "stdout",
          "text": [
            "Error: File not found\n"
          ]
        }
      ],
      "source": [
        "#Safely open a file with error handling.\n",
        "def safe_file_open(filename):\n",
        "    try:\n",
        "        with open(filename, \"r\") as f:\n",
        "            return f.read()\n",
        "    except FileNotFoundError:\n",
        "        return \"Error: File not found\"\n",
        "\n",
        "print(safe_file_open(\"not_exists.txt\"))"
      ]
    },
    {
      "cell_type": "code",
      "execution_count": 30,
      "id": "ce28516b",
      "metadata": {
        "colab": {
          "base_uri": "https://localhost:8080/"
        },
        "id": "ce28516b",
        "outputId": "0232aaa6-fd92-4849-e096-cf7e790119c0"
      },
      "outputs": [
        {
          "output_type": "stream",
          "name": "stdout",
          "text": [
            "4.0\n",
            "Error: Negative number\n"
          ]
        }
      ],
      "source": [
        "#Find square root of a number with error handling.\n",
        "import math\n",
        "\n",
        "def safe_sqrt(n):\n",
        "    try:\n",
        "        if n < 0:\n",
        "            raise ValueError(\"Negative number\")\n",
        "        return math.sqrt(n)\n",
        "    except ValueError as e:\n",
        "        return f\"Error: {e}\"\n",
        "\n",
        "print(safe_sqrt(16))\n",
        "print(safe_sqrt(-9))"
      ]
    },
    {
      "cell_type": "code",
      "execution_count": 31,
      "id": "f1c95194",
      "metadata": {
        "colab": {
          "base_uri": "https://localhost:8080/"
        },
        "id": "f1c95194",
        "outputId": "76167a7f-a548-4059-e82f-b90a6de8bd17"
      },
      "outputs": [
        {
          "output_type": "stream",
          "name": "stdout",
          "text": [
            "2\n",
            "Error: Index out of range\n"
          ]
        }
      ],
      "source": [
        "#Handle list index out of range error.\n",
        "def safe_index(lst, idx):\n",
        "    try:\n",
        "        return lst[idx]\n",
        "    except IndexError:\n",
        "        return \"Error: Index out of range\"\n",
        "\n",
        "print(safe_index([1, 2, 3], 1))\n",
        "print(safe_index([1, 2, 3], 5))"
      ]
    },
    {
      "cell_type": "code",
      "execution_count": 32,
      "id": "23c99470",
      "metadata": {
        "colab": {
          "base_uri": "https://localhost:8080/"
        },
        "id": "23c99470",
        "outputId": "329e9f3d-29c3-4989-846e-77fc07419f7d"
      },
      "outputs": [
        {
          "output_type": "stream",
          "name": "stdout",
          "text": [
            "1\n",
            "Error: Key not found\n"
          ]
        }
      ],
      "source": [
        "#Handle dictionary key error.\n",
        "def safe_get(d, key):\n",
        "    try:\n",
        "        return d[key]\n",
        "    except KeyError:\n",
        "        return \"Error: Key not found\"\n",
        "\n",
        "print(safe_get({\"a\": 1, \"b\": 2}, \"a\"))\n",
        "print(safe_get({\"a\": 1, \"b\": 2}, \"c\"))"
      ]
    },
    {
      "cell_type": "code",
      "execution_count": 33,
      "id": "d6474f1a",
      "metadata": {
        "colab": {
          "base_uri": "https://localhost:8080/"
        },
        "id": "d6474f1a",
        "outputId": "bf8df29c-4664-4313-be59-427d7357606d"
      },
      "outputs": [
        {
          "output_type": "stream",
          "name": "stdout",
          "text": [
            "15\n",
            "Error: Division by zero\n",
            "Error: Invalid operation\n"
          ]
        }
      ],
      "source": [
        "#Simple calculator with error handling.\n",
        "def calculator(a, b, op):\n",
        "    try:\n",
        "        if op == \"add\":\n",
        "            return a + b\n",
        "        elif op == \"sub\":\n",
        "            return a - b\n",
        "        elif op == \"mul\":\n",
        "            return a * b\n",
        "        elif op == \"div\":\n",
        "            return a / b\n",
        "        else:\n",
        "            return \"Error: Invalid operation\"\n",
        "    except ZeroDivisionError:\n",
        "        return \"Error: Division by zero\"\n",
        "\n",
        "print(calculator(10, 5, \"add\"))\n",
        "print(calculator(10, 0, \"div\"))\n",
        "print(calculator(10, 5, \"pow\"))"
      ]
    },
    {
      "cell_type": "code",
      "source": [],
      "metadata": {
        "id": "SBC4xDYUAI_G"
      },
      "id": "SBC4xDYUAI_G",
      "execution_count": null,
      "outputs": []
    }
  ],
  "metadata": {
    "colab": {
      "provenance": [],
      "include_colab_link": true
    },
    "language_info": {
      "name": "python"
    },
    "kernelspec": {
      "name": "python3",
      "display_name": "Python 3"
    }
  },
  "nbformat": 4,
  "nbformat_minor": 5
}