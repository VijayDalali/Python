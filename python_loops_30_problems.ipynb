{
  "cells": [
    {
      "cell_type": "markdown",
      "metadata": {
        "id": "view-in-github",
        "colab_type": "text"
      },
      "source": [
        "<a href=\"https://colab.research.google.com/github/VijayDalali/Python/blob/main/python_loops_30_problems.ipynb\" target=\"_parent\"><img src=\"https://colab.research.google.com/assets/colab-badge.svg\" alt=\"Open In Colab\"/></a>"
      ]
    },
    {
      "cell_type": "code",
      "source": [
        "# 1. Print numbers from 1 to 10 using for loop\n",
        "for i in range(1, 11):\n",
        "    print(i, end=\" \")\n",
        "print(\"\\n\")"
      ],
      "metadata": {
        "colab": {
          "base_uri": "https://localhost:8080/"
        },
        "id": "VsmIBPd0d_eC",
        "outputId": "7b39dbfe-6e1c-4cbb-e248-544bebf99950"
      },
      "id": "VsmIBPd0d_eC",
      "execution_count": 3,
      "outputs": [
        {
          "output_type": "stream",
          "name": "stdout",
          "text": [
            "1 2 3 4 5 6 7 8 9 10 \n",
            "\n"
          ]
        }
      ]
    },
    {
      "cell_type": "code",
      "source": [
        "# 2. Print numbers from 1 to 10 using while loop\n",
        "i = 1\n",
        "while i <= 10:\n",
        "    print(i, end=\" \")\n",
        "    i += 1\n",
        "print(\"\\n\")"
      ],
      "metadata": {
        "colab": {
          "base_uri": "https://localhost:8080/"
        },
        "id": "xhLeNlXVgSBd",
        "outputId": "7a2dd988-800b-48a6-e66f-174834ca2643"
      },
      "id": "xhLeNlXVgSBd",
      "execution_count": 4,
      "outputs": [
        {
          "output_type": "stream",
          "name": "stdout",
          "text": [
            "1 2 3 4 5 6 7 8 9 10 \n",
            "\n"
          ]
        }
      ]
    },
    {
      "cell_type": "code",
      "source": [
        "# 3. Print even numbers between 1 and 20\n",
        "for i in range(2, 21, 2):\n",
        "    print(i, end=\" \")\n",
        "print(\"\\n\")"
      ],
      "metadata": {
        "colab": {
          "base_uri": "https://localhost:8080/"
        },
        "id": "lnf1R8LBg7rX",
        "outputId": "b7a1082e-aaa4-4c6e-b370-2a5da748b53e"
      },
      "id": "lnf1R8LBg7rX",
      "execution_count": 11,
      "outputs": [
        {
          "output_type": "stream",
          "name": "stdout",
          "text": [
            "2 4 6 8 10 12 14 16 18 20 \n",
            "\n"
          ]
        }
      ]
    },
    {
      "cell_type": "code",
      "source": [
        "# 4. Print odd numbers between 1 and 20\n",
        "for i in range(1, 21, 2):\n",
        "    print(i, end=\" \")\n",
        "print(\"\\n\")"
      ],
      "metadata": {
        "colab": {
          "base_uri": "https://localhost:8080/"
        },
        "id": "IbRVHj2zhVUP",
        "outputId": "9e0ba02b-9e28-416e-fc27-e66346079294"
      },
      "id": "IbRVHj2zhVUP",
      "execution_count": 7,
      "outputs": [
        {
          "output_type": "stream",
          "name": "stdout",
          "text": [
            "1 3 5 7 9 11 13 15 17 19 \n",
            "\n"
          ]
        }
      ]
    },
    {
      "cell_type": "code",
      "source": [
        "# 5. Multiplication table of 10\n",
        "for i in range(1, 21):\n",
        "    print(f\"10 x {i} = {10*i}\")\n",
        "print()"
      ],
      "metadata": {
        "colab": {
          "base_uri": "https://localhost:8080/"
        },
        "id": "1wiOC2ZojoTt",
        "outputId": "b2b37a19-3726-477f-8ddc-0872fce7fa91"
      },
      "id": "1wiOC2ZojoTt",
      "execution_count": 14,
      "outputs": [
        {
          "output_type": "stream",
          "name": "stdout",
          "text": [
            "10 x 1 = 10\n",
            "10 x 2 = 20\n",
            "10 x 3 = 30\n",
            "10 x 4 = 40\n",
            "10 x 5 = 50\n",
            "10 x 6 = 60\n",
            "10 x 7 = 70\n",
            "10 x 8 = 80\n",
            "10 x 9 = 90\n",
            "10 x 10 = 100\n",
            "10 x 11 = 110\n",
            "10 x 12 = 120\n",
            "10 x 13 = 130\n",
            "10 x 14 = 140\n",
            "10 x 15 = 150\n",
            "10 x 16 = 160\n",
            "10 x 17 = 170\n",
            "10 x 18 = 180\n",
            "10 x 19 = 190\n",
            "10 x 20 = 200\n",
            "\n"
          ]
        }
      ]
    },
    {
      "cell_type": "code",
      "source": [
        "# 6. Sum of numbers from 1 to 1000\n",
        "s = 0\n",
        "for i in range(1, 1001):\n",
        "    s += i\n",
        "print(\"Sum of 1 to 1000:\", s)\n",
        "print()"
      ],
      "metadata": {
        "colab": {
          "base_uri": "https://localhost:8080/"
        },
        "id": "xoLtKyi3lKu7",
        "outputId": "6653c46c-da40-4120-9a22-1a224f31cd29"
      },
      "id": "xoLtKyi3lKu7",
      "execution_count": 18,
      "outputs": [
        {
          "output_type": "stream",
          "name": "stdout",
          "text": [
            "Sum of 1 to 1000: 500500\n",
            "\n"
          ]
        }
      ]
    },
    {
      "cell_type": "code",
      "source": [
        " #7. Factorial of a number (example: 5!)\n",
        "num = 5\n",
        "fact = 1\n",
        "for i in range(1, num+1):\n",
        "    fact *= i\n",
        "print(\"Factorial of\", num, \"is\", fact)\n",
        "print()"
      ],
      "metadata": {
        "colab": {
          "base_uri": "https://localhost:8080/"
        },
        "id": "DJyPmHZ0mYgW",
        "outputId": "aab88b0d-e30a-4738-ba71-6f3f3001ccd1"
      },
      "id": "DJyPmHZ0mYgW",
      "execution_count": 19,
      "outputs": [
        {
          "output_type": "stream",
          "name": "stdout",
          "text": [
            "Factorial of 5 is 120\n",
            "\n"
          ]
        }
      ]
    },
    {
      "cell_type": "code",
      "source": [
        "# 8. Count digits in an integer\n",
        "num = 123456789\n",
        "count = 0 # This variable will be used to store the number of digits.\n",
        "while num > 0:\n",
        "    count += 1 # line increments the count by 1in each iteration\n",
        "    num //= 10 #interger division of num by 10\n",
        "print(\"Number of digits:\", count) #prints the final value of count\n",
        "print()"
      ],
      "metadata": {
        "colab": {
          "base_uri": "https://localhost:8080/"
        },
        "id": "_PgK5PMOpio9",
        "outputId": "7e18e8f0-3bbe-433b-c298-7315a978f5df"
      },
      "id": "_PgK5PMOpio9",
      "execution_count": 25,
      "outputs": [
        {
          "output_type": "stream",
          "name": "stdout",
          "text": [
            "Number of digits: 9\n",
            "\n"
          ]
        }
      ]
    },
    {
      "cell_type": "code",
      "source": [
        "# 9. Print each character of a string\n",
        "text = \"Python\"\n",
        "for ch in text:\n",
        "    print(ch, end=\" \") #prints the current character of the string.\n",
        "print(\"\\n\")"
      ],
      "metadata": {
        "colab": {
          "base_uri": "https://localhost:8080/"
        },
        "id": "u-sButAmpmTn",
        "outputId": "6c2061f1-e781-42e0-925e-2588c824d140"
      },
      "id": "u-sButAmpmTn",
      "execution_count": 27,
      "outputs": [
        {
          "output_type": "stream",
          "name": "stdout",
          "text": [
            "P y t h o n \n",
            "\n"
          ]
        }
      ]
    },
    {
      "cell_type": "code",
      "source": [
        "# 10. Reverse a string using loop\n",
        "text = \"yajiv\"\n",
        "rev = \"\" # ch store the reversed string.\n",
        "for ch in text:\n",
        "    rev = ch + rev\n",
        "print(\"Reversed:\", rev)\n",
        "print()"
      ],
      "metadata": {
        "colab": {
          "base_uri": "https://localhost:8080/"
        },
        "id": "Ipn7Dl8Isb9L",
        "outputId": "7a29e6f5-4158-4e1b-8a74-9f223e2125b8"
      },
      "id": "Ipn7Dl8Isb9L",
      "execution_count": 30,
      "outputs": [
        {
          "output_type": "stream",
          "name": "stdout",
          "text": [
            "Reversed: vijay\n",
            "\n"
          ]
        }
      ]
    },
    {
      "cell_type": "code",
      "source": [
        "# 11. First 10 Fibonacci numbers\n",
        "a, b = 0, 1\n",
        "for _ in range(10):\n",
        "    print(a, end=\" \")\n",
        "    a, b = b, a + b\n",
        "print(\"\\n\")"
      ],
      "metadata": {
        "colab": {
          "base_uri": "https://localhost:8080/"
        },
        "id": "ZX12ZPs4vZh8",
        "outputId": "41da6f5e-e85f-44ad-d314-c7c3fdbd7a40"
      },
      "id": "ZX12ZPs4vZh8",
      "execution_count": 32,
      "outputs": [
        {
          "output_type": "stream",
          "name": "stdout",
          "text": [
            "0 1 1 2 3 5 8 13 21 34 \n",
            "\n"
          ]
        }
      ]
    },
    {
      "cell_type": "code",
      "source": [
        "# 12. Check if a number is prime\n",
        "num = 21\n",
        "is_prime = True\n",
        "for i in range(2, int(num**0.5)+1):\n",
        "    if num % i == 0:\n",
        "        is_prime = False\n",
        "        break\n",
        "print(num, \"is prime?\", is_prime)\n",
        "print()"
      ],
      "metadata": {
        "colab": {
          "base_uri": "https://localhost:8080/"
        },
        "id": "Hp0JEkgowIt0",
        "outputId": "7b2abd31-32d1-4a12-fbd4-5ed3ac379732"
      },
      "id": "Hp0JEkgowIt0",
      "execution_count": 36,
      "outputs": [
        {
          "output_type": "stream",
          "name": "stdout",
          "text": [
            "21 is prime? False\n",
            "\n"
          ]
        }
      ]
    },
    {
      "cell_type": "code",
      "source": [
        "# 13. All prime numbers between 1 and 50\n",
        "for n in range(2, 51):\n",
        "    prime = True\n",
        "    for i in range(2, int(n**0.5)+1):\n",
        "        if n % i == 0:\n",
        "            prime = False\n",
        "            break\n",
        "    if prime:\n",
        "        print(n, end=\" \")\n",
        "print(\"\\n\")"
      ],
      "metadata": {
        "colab": {
          "base_uri": "https://localhost:8080/"
        },
        "id": "REWbUypzwrn2",
        "outputId": "7fc72669-c1b9-4215-99e0-175a4972894a"
      },
      "id": "REWbUypzwrn2",
      "execution_count": 38,
      "outputs": [
        {
          "output_type": "stream",
          "name": "stdout",
          "text": [
            "2 3 5 7 11 13 17 19 23 29 31 37 41 43 47 \n",
            "\n"
          ]
        }
      ]
    },
    {
      "cell_type": "code",
      "source": [
        "# 14. Sum of digits of a number\n",
        "num = 1234\n",
        "s = 0\n",
        "while num > 0:\n",
        "    s += num % 10\n",
        "    num //= 10\n",
        "print(\"Sum of digits:\", s)\n",
        "print()"
      ],
      "metadata": {
        "colab": {
          "base_uri": "https://localhost:8080/"
        },
        "id": "h9CU6dVzxYde",
        "outputId": "2a1b7cb9-eb43-46dd-915d-04e5de438bea"
      },
      "id": "h9CU6dVzxYde",
      "execution_count": 39,
      "outputs": [
        {
          "output_type": "stream",
          "name": "stdout",
          "text": [
            "Sum of digits: 10\n",
            "\n"
          ]
        }
      ]
    },
    {
      "cell_type": "code",
      "source": [
        "# 15. Largest digit in a number\n",
        "num = 59374\n",
        "largest = 0\n",
        "while num > 0:\n",
        "    digit = num % 10\n",
        "    if digit > largest:\n",
        "        largest = digit\n",
        "    num //= 10\n",
        "print(\"Largest digit:\", largest)\n",
        "print()"
      ],
      "metadata": {
        "colab": {
          "base_uri": "https://localhost:8080/"
        },
        "id": "T8_bcQ7xyabZ",
        "outputId": "9f39314f-975e-47b9-dbe0-2833c1328392"
      },
      "id": "T8_bcQ7xyabZ",
      "execution_count": 40,
      "outputs": [
        {
          "output_type": "stream",
          "name": "stdout",
          "text": [
            "Largest digit: 9\n",
            "\n"
          ]
        }
      ]
    },
    {
      "cell_type": "code",
      "source": [
        "# 16. List of squares from 1 to 10\n",
        "squares = []\n",
        "for i in range(1, 11):\n",
        "    squares.append(i**2)\n",
        "print(\"Squares:\", squares)\n",
        "print()"
      ],
      "metadata": {
        "colab": {
          "base_uri": "https://localhost:8080/"
        },
        "id": "SJtzrvwjyraG",
        "outputId": "618ad279-452e-4b93-8bbc-d4ac85c9f0bf"
      },
      "id": "SJtzrvwjyraG",
      "execution_count": 41,
      "outputs": [
        {
          "output_type": "stream",
          "name": "stdout",
          "text": [
            "Squares: [1, 4, 9, 16, 25, 36, 49, 64, 81, 100]\n",
            "\n"
          ]
        }
      ]
    },
    {
      "cell_type": "code",
      "source": [
        "# 17. Numbers 1-100 skipping multiples of 3\n",
        "for i in range(1, 50):\n",
        "    if i % 3 == 0:\n",
        "        continue\n",
        "    print(i, end=\" \")\n",
        "print(\"\\n\")"
      ],
      "metadata": {
        "colab": {
          "base_uri": "https://localhost:8080/"
        },
        "id": "tU8rDhi5y2Al",
        "outputId": "873a6e04-f488-4b31-b2c0-921ca8354428"
      },
      "id": "tU8rDhi5y2Al",
      "execution_count": 44,
      "outputs": [
        {
          "output_type": "stream",
          "name": "stdout",
          "text": [
            "1 2 4 5 7 8 10 11 13 14 16 17 19 20 22 23 25 26 28 29 31 32 34 35 37 38 40 41 43 44 46 47 49 \n",
            "\n"
          ]
        }
      ]
    },
    {
      "cell_type": "code",
      "source": [
        "# 18. Multiplication table for user input\n",
        "num = 999\n",
        "for i in range(1, 11):\n",
        "    print(f\"{num} x {i} = {num*i}\")\n",
        "print()"
      ],
      "metadata": {
        "colab": {
          "base_uri": "https://localhost:8080/"
        },
        "id": "XAfJCwNG0AKY",
        "outputId": "087bf069-45be-482b-b9a9-fb8915222968"
      },
      "id": "XAfJCwNG0AKY",
      "execution_count": 47,
      "outputs": [
        {
          "output_type": "stream",
          "name": "stdout",
          "text": [
            "999 x 1 = 999\n",
            "999 x 2 = 1998\n",
            "999 x 3 = 2997\n",
            "999 x 4 = 3996\n",
            "999 x 5 = 4995\n",
            "999 x 6 = 5994\n",
            "999 x 7 = 6993\n",
            "999 x 8 = 7992\n",
            "999 x 9 = 8991\n",
            "999 x 10 = 9990\n",
            "\n"
          ]
        }
      ]
    },
    {
      "cell_type": "code",
      "source": [
        "# 19. Count vowels and consonants in string\n",
        "text = \"Vijaykumar V Dalali\"\n",
        "vowels = 0\n",
        "consonants = 0\n",
        "for ch in text.lower():\n",
        "    if ch.isalpha():\n",
        "        if ch in \"aeiou\":\n",
        "            vowels += 1\n",
        "        else:\n",
        "            consonants += 1\n",
        "print(\"Vowels:\", vowels, \"Consonants:\", consonants)\n",
        "print()"
      ],
      "metadata": {
        "colab": {
          "base_uri": "https://localhost:8080/"
        },
        "id": "0L8d32Zd0Uo8",
        "outputId": "9ff2bab3-3724-4e36-ee54-9af0787e5c84"
      },
      "id": "0L8d32Zd0Uo8",
      "execution_count": 49,
      "outputs": [
        {
          "output_type": "stream",
          "name": "stdout",
          "text": [
            "Vowels: 7 Consonants: 10\n",
            "\n"
          ]
        }
      ]
    },
    {
      "cell_type": "code",
      "source": [
        "# 20. Reverse of a number\n",
        "num = 1234\n",
        "rev = 0\n",
        "while num > 0:\n",
        "    rev = rev*10 + num % 10\n",
        "    num //= 10\n",
        "print(\"Reversed number:\", rev)\n",
        "print()"
      ],
      "metadata": {
        "colab": {
          "base_uri": "https://localhost:8080/"
        },
        "id": "gzpVLLEN0rsW",
        "outputId": "35edec6c-da2d-455e-e19c-fc121df0bea3"
      },
      "id": "gzpVLLEN0rsW",
      "execution_count": 50,
      "outputs": [
        {
          "output_type": "stream",
          "name": "stdout",
          "text": [
            "Reversed number: 4321\n",
            "\n"
          ]
        }
      ]
    },
    {
      "cell_type": "code",
      "source": [
        "\n",
        "# 21. Pyramid pattern\n",
        "for i in range(1, 5):\n",
        "    print(\" \"*(5-i) + \"*\"*(2*i-1))\n",
        "print()\n"
      ],
      "metadata": {
        "colab": {
          "base_uri": "https://localhost:8080/"
        },
        "id": "VcUkK-Qw0wZb",
        "outputId": "04024f1e-5b8c-42a3-f989-d04c7dff78ab"
      },
      "id": "VcUkK-Qw0wZb",
      "execution_count": 55,
      "outputs": [
        {
          "output_type": "stream",
          "name": "stdout",
          "text": [
            "    *\n",
            "   ***\n",
            "  *****\n",
            " *******\n",
            "\n"
          ]
        }
      ]
    },
    {
      "cell_type": "code",
      "source": [
        "# 22. Inverted pyramid\n",
        "for i in range(5, 0, -1):\n",
        "    print(\" \"*(5-i) + \"*\"*(2*i-1))\n",
        "print()"
      ],
      "metadata": {
        "colab": {
          "base_uri": "https://localhost:8080/"
        },
        "id": "EaRBikvf1PzC",
        "outputId": "330e5749-129e-4865-a068-083787dfd4e5"
      },
      "id": "EaRBikvf1PzC",
      "execution_count": 56,
      "outputs": [
        {
          "output_type": "stream",
          "name": "stdout",
          "text": [
            "*********\n",
            " *******\n",
            "  *****\n",
            "   ***\n",
            "    *\n",
            "\n"
          ]
        }
      ]
    },
    {
      "cell_type": "code",
      "source": [
        "# 23. Floyd's triangle\n",
        "num = 1\n",
        "for i in range(1, 6):\n",
        "    for j in range(i):\n",
        "        print(num, end=\" \")\n",
        "        num += 1\n",
        "    print()\n",
        "print()"
      ],
      "metadata": {
        "colab": {
          "base_uri": "https://localhost:8080/"
        },
        "id": "IpAfI6BP1PoV",
        "outputId": "f3ad8ff6-503d-4e9f-d19e-b021d4e221c9"
      },
      "id": "IpAfI6BP1PoV",
      "execution_count": 57,
      "outputs": [
        {
          "output_type": "stream",
          "name": "stdout",
          "text": [
            "1 \n",
            "2 3 \n",
            "4 5 6 \n",
            "7 8 9 10 \n",
            "11 12 13 14 15 \n",
            "\n"
          ]
        }
      ]
    },
    {
      "cell_type": "code",
      "source": [
        "# 24. Pascal’s triangle\n",
        "rows = 5\n",
        "for i in range(rows):\n",
        "    print(\" \"*(rows-i), end=\"\")\n",
        "    val = 1\n",
        "    for j in range(i+1):\n",
        "        print(val, end=\" \")\n",
        "        val = val * (i-j) // (j+1)\n",
        "    print()\n",
        "print()"
      ],
      "metadata": {
        "colab": {
          "base_uri": "https://localhost:8080/"
        },
        "id": "bux3HxqE1iVh",
        "outputId": "6b04a148-7044-4600-a1eb-baf86129ba5f"
      },
      "id": "bux3HxqE1iVh",
      "execution_count": 58,
      "outputs": [
        {
          "output_type": "stream",
          "name": "stdout",
          "text": [
            "     1 \n",
            "    1 1 \n",
            "   1 2 1 \n",
            "  1 3 3 1 \n",
            " 1 4 6 4 1 \n",
            "\n"
          ]
        }
      ]
    },
    {
      "cell_type": "code",
      "source": [
        "# 25. Prime factors of a number\n",
        "num = 84\n",
        "i = 2\n",
        "print(\"Prime factors of\", num, \":\")\n",
        "while num > 1:\n",
        "    if num % i == 0:\n",
        "        print(i, end=\" \")\n",
        "        num //= i\n",
        "    else:\n",
        "        i += 1\n",
        "print(\"\\n\")"
      ],
      "metadata": {
        "colab": {
          "base_uri": "https://localhost:8080/"
        },
        "id": "MpueRTFw1sRo",
        "outputId": "0d17855e-d620-499d-ad48-b5e5da437fd3"
      },
      "id": "MpueRTFw1sRo",
      "execution_count": 59,
      "outputs": [
        {
          "output_type": "stream",
          "name": "stdout",
          "text": [
            "Prime factors of 84 :\n",
            "2 2 3 7 \n",
            "\n"
          ]
        }
      ]
    },
    {
      "cell_type": "code",
      "source": [
        "# 26. GCD of two numbers\n",
        "a, b = 56, 98\n",
        "while b != 0:\n",
        "    a, b = b, a % b\n",
        "print(\"GCD:\", a)\n",
        "print()"
      ],
      "metadata": {
        "colab": {
          "base_uri": "https://localhost:8080/"
        },
        "id": "P50X4XOz1zoi",
        "outputId": "1a59c349-2d94-4fde-b31e-e5237c93362f"
      },
      "id": "P50X4XOz1zoi",
      "execution_count": 60,
      "outputs": [
        {
          "output_type": "stream",
          "name": "stdout",
          "text": [
            "GCD: 14\n",
            "\n"
          ]
        }
      ]
    },
    {
      "cell_type": "code",
      "execution_count": 62,
      "id": "9c5148c3",
      "metadata": {
        "colab": {
          "base_uri": "https://localhost:8080/"
        },
        "id": "9c5148c3",
        "outputId": "e667a6f5-a414-49db-9ec9-df4cb873c96c"
      },
      "outputs": [
        {
          "output_type": "stream",
          "name": "stdout",
          "text": [
            "LCM: 60\n",
            "\n"
          ]
        }
      ],
      "source": [
        "# 27. LCM of two numbers\n",
        "a, b = 15, 20\n",
        "x, y = a, b\n",
        "while a != b:\n",
        "    if a < b:\n",
        "        a += x\n",
        "    else:\n",
        "        b += y\n",
        "print(\"LCM:\", a)\n",
        "print()"
      ]
    },
    {
      "cell_type": "code",
      "source": [
        "# 28. Armstrong numbers between 1 and 1000\n",
        "for num in range(1, 1001):\n",
        "    order = len(str(num))\n",
        "    s = 0\n",
        "    temp = num\n",
        "    while temp > 0:\n",
        "        digit = temp % 10\n",
        "        s += digit ** order\n",
        "        temp //= 10\n",
        "    if s == num:\n",
        "        print(num, end=\" \")\n",
        "print(\"\\n\")"
      ],
      "metadata": {
        "colab": {
          "base_uri": "https://localhost:8080/"
        },
        "id": "uwna0DsPd6eN",
        "outputId": "3f99b5c0-d37f-4e7c-c1d3-96a252e0a727"
      },
      "id": "uwna0DsPd6eN",
      "execution_count": 63,
      "outputs": [
        {
          "output_type": "stream",
          "name": "stdout",
          "text": [
            "1 2 3 4 5 6 7 8 9 153 370 371 407 \n",
            "\n"
          ]
        }
      ]
    },
    {
      "cell_type": "code",
      "source": [
        "# 29. Collatz sequence\n",
        "num = 6\n",
        "print(\"Collatz sequence:\")\n",
        "while num != 1:\n",
        "    print(num, end=\" → \")\n",
        "    if num % 2 == 0:\n",
        "        num //= 2\n",
        "    else:\n",
        "        num = 3*num + 1\n",
        "print(1)\n",
        "print()"
      ],
      "metadata": {
        "colab": {
          "base_uri": "https://localhost:8080/"
        },
        "id": "aNDhRJbsd05k",
        "outputId": "4b65369c-9d65-4608-a611-a85ead23de05"
      },
      "id": "aNDhRJbsd05k",
      "execution_count": 64,
      "outputs": [
        {
          "output_type": "stream",
          "name": "stdout",
          "text": [
            "Collatz sequence:\n",
            "6 → 3 → 10 → 5 → 16 → 8 → 4 → 2 → 1\n",
            "\n"
          ]
        }
      ]
    },
    {
      "cell_type": "code",
      "source": [
        "# 30. Palindrome number\n",
        "num = 12321\n",
        "temp = num\n",
        "rev = 0\n",
        "while temp > 0:\n",
        "    rev = rev*10 + temp % 10\n",
        "    temp //= 10\n",
        "print(num, \"is palindrome?\", num == rev)"
      ],
      "metadata": {
        "colab": {
          "base_uri": "https://localhost:8080/"
        },
        "id": "W5mCNCWfdy-n",
        "outputId": "0a1b4a80-7744-4509-f925-ca148eefaebb"
      },
      "id": "W5mCNCWfdy-n",
      "execution_count": 65,
      "outputs": [
        {
          "output_type": "stream",
          "name": "stdout",
          "text": [
            "12321 is palindrome? True\n"
          ]
        }
      ]
    },
    {
      "cell_type": "code",
      "source": [],
      "metadata": {
        "id": "xH69UNkf3lmw"
      },
      "id": "xH69UNkf3lmw",
      "execution_count": null,
      "outputs": []
    }
  ],
  "metadata": {
    "colab": {
      "provenance": [],
      "include_colab_link": true
    },
    "language_info": {
      "name": "python"
    },
    "kernelspec": {
      "name": "python3",
      "display_name": "Python 3"
    }
  },
  "nbformat": 4,
  "nbformat_minor": 5
}