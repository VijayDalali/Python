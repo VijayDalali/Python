{
  "cells": [
    {
      "cell_type": "markdown",
      "metadata": {
        "id": "view-in-github",
        "colab_type": "text"
      },
      "source": [
        "<a href=\"https://colab.research.google.com/github/VijayDalali/Python/blob/main/python_data_structures_problems.ipynb\" target=\"_parent\"><img src=\"https://colab.research.google.com/assets/colab-badge.svg\" alt=\"Open In Colab\"/></a>"
      ]
    },
    {
      "cell_type": "markdown",
      "id": "dbbb4a5e",
      "metadata": {
        "id": "dbbb4a5e"
      },
      "source": [
        "# List Problems"
      ]
    },
    {
      "cell_type": "code",
      "execution_count": 3,
      "id": "547c7cad",
      "metadata": {
        "colab": {
          "base_uri": "https://localhost:8080/"
        },
        "id": "547c7cad",
        "outputId": "d6d78884-7efd-4c10-8381-32464ca1cf53"
      },
      "outputs": [
        {
          "output_type": "stream",
          "name": "stdout",
          "text": [
            "10 50\n"
          ]
        }
      ],
      "source": [
        "# Create a list of 5 numbers and print the first and last element.\n",
        "lst = [10, 20, 30, 40, 50]\n",
        "print(lst[0], lst[4])"
      ]
    },
    {
      "cell_type": "code",
      "execution_count": 4,
      "id": "2c16bd7d",
      "metadata": {
        "colab": {
          "base_uri": "https://localhost:8080/"
        },
        "id": "2c16bd7d",
        "outputId": "0577ce12-c331-4bfe-f5c3-517a70574774"
      },
      "outputs": [
        {
          "output_type": "stream",
          "name": "stdout",
          "text": [
            "[1, 2, 3, 4]\n"
          ]
        }
      ],
      "source": [
        "# Append a new element to the list and display it.\n",
        "lst = [1, 2, 3]\n",
        "lst.append(4)\n",
        "print(lst)"
      ]
    },
    {
      "cell_type": "code",
      "execution_count": null,
      "id": "9bd5f041",
      "metadata": {
        "id": "9bd5f041"
      },
      "outputs": [],
      "source": [
        "# Remove the second element from a list.\n",
        "lst = [5, 6, 7, 8]\n",
        "lst.pop(1)\n",
        "print(lst)"
      ]
    },
    {
      "cell_type": "code",
      "execution_count": 10,
      "id": "d2bb527c",
      "metadata": {
        "colab": {
          "base_uri": "https://localhost:8080/"
        },
        "id": "d2bb527c",
        "outputId": "f9013834-2a64-40db-d90c-39a5cc0ddf10"
      },
      "outputs": [
        {
          "output_type": "stream",
          "name": "stdout",
          "text": [
            "Sum: 60\n",
            "Average: 20.0\n"
          ]
        }
      ],
      "source": [
        "#Find the sum and average of all numbers in a list.\n",
        "lst = [10, 20, 30]\n",
        "sum(lst)\n",
        "print(\"Sum:\", sum(lst))\n",
        "sum(lst)/len(lst)\n",
        "print(\"Average:\", sum(lst)/len(lst))"
      ]
    },
    {
      "cell_type": "code",
      "execution_count": 11,
      "id": "d1a6822d",
      "metadata": {
        "colab": {
          "base_uri": "https://localhost:8080/"
        },
        "id": "d1a6822d",
        "outputId": "c46a0f73-b073-4671-a37b-8759f9c1702a"
      },
      "outputs": [
        {
          "output_type": "stream",
          "name": "stdout",
          "text": [
            "[1, 2, 3, 4]\n",
            "[4, 3, 2, 1]\n"
          ]
        }
      ],
      "source": [
        "#Sort a list in ascending and descending order.\n",
        "lst = [3, 1, 4, 2]\n",
        "print(sorted(lst))\n",
        "print(sorted(lst, reverse=True))"
      ]
    },
    {
      "cell_type": "code",
      "execution_count": 12,
      "id": "0f7dfb37",
      "metadata": {
        "colab": {
          "base_uri": "https://localhost:8080/"
        },
        "id": "0f7dfb37",
        "outputId": "08d928f4-8a66-46f4-9828-f56741fc84c1"
      },
      "outputs": [
        {
          "output_type": "stream",
          "name": "stdout",
          "text": [
            "[1, 2, 3, 4]\n"
          ]
        }
      ],
      "source": [
        "# Remove duplicates from a list.\n",
        "lst = [1, 2, 2, 3, 3, 4]\n",
        "print(list(set(lst)))"
      ]
    },
    {
      "cell_type": "markdown",
      "id": "1a433533",
      "metadata": {
        "id": "1a433533"
      },
      "source": [
        "# Tuple Problems"
      ]
    },
    {
      "cell_type": "code",
      "execution_count": 13,
      "id": "81c2f6de",
      "metadata": {
        "colab": {
          "base_uri": "https://localhost:8080/"
        },
        "id": "81c2f6de",
        "outputId": "8e529d32-a098-468d-90b0-85ec93c71536"
      },
      "outputs": [
        {
          "output_type": "stream",
          "name": "stdout",
          "text": [
            "3\n"
          ]
        }
      ],
      "source": [
        "# Create a tuple of fruits and print its length.\n",
        "tup = (\"apple\", \"banana\", \"cherry\")\n",
        "print(len(tup))"
      ]
    },
    {
      "cell_type": "code",
      "execution_count": 14,
      "id": "476fe500",
      "metadata": {
        "colab": {
          "base_uri": "https://localhost:8080/"
        },
        "id": "476fe500",
        "outputId": "59f495e9-55a4-414e-da1a-47270dd03779"
      },
      "outputs": [
        {
          "output_type": "stream",
          "name": "stdout",
          "text": [
            "30\n"
          ]
        }
      ],
      "source": [
        "#Access the 3rd element of a tuple using indexing.\n",
        "tup = (10, 20, 30, 40)\n",
        "print(tup[2])"
      ]
    },
    {
      "cell_type": "code",
      "execution_count": 15,
      "id": "a83962cc",
      "metadata": {
        "colab": {
          "base_uri": "https://localhost:8080/"
        },
        "id": "a83962cc",
        "outputId": "28375e0c-52b5-44fd-d1a9-4af6c1e45358"
      },
      "outputs": [
        {
          "output_type": "stream",
          "name": "stdout",
          "text": [
            "(1, 99, 3)\n"
          ]
        }
      ],
      "source": [
        "#Convert a tuple into a list, modify it, and convert back to tuple.\n",
        "tup = (1, 2, 3)\n",
        "lst = list(tup)\n",
        "lst[1] = 99\n",
        "tup = tuple(lst)\n",
        "print(tup)"
      ]
    },
    {
      "cell_type": "code",
      "execution_count": 16,
      "id": "44211560",
      "metadata": {
        "colab": {
          "base_uri": "https://localhost:8080/"
        },
        "id": "44211560",
        "outputId": "29f1ba7d-90ec-4b8b-e18b-c90b24e6e35e"
      },
      "outputs": [
        {
          "output_type": "stream",
          "name": "stdout",
          "text": [
            "True\n"
          ]
        }
      ],
      "source": [
        "#Check whether an element exists in a tuple.\n",
        "tup = (\"a\", \"b\", \"c\")\n",
        "print(\"b\" in tup)"
      ]
    },
    {
      "cell_type": "code",
      "execution_count": 17,
      "id": "9460e06b",
      "metadata": {
        "colab": {
          "base_uri": "https://localhost:8080/"
        },
        "id": "9460e06b",
        "outputId": "20cfaa49-7f80-41f0-805d-062e11f32636"
      },
      "outputs": [
        {
          "output_type": "stream",
          "name": "stdout",
          "text": [
            "(1, 2, 3, 4)\n"
          ]
        }
      ],
      "source": [
        "# Concatenate two tuples.\n",
        "tup1 = (1, 2)\n",
        "tup2 = (3, 4)\n",
        "print(tup1 + tup2)"
      ]
    },
    {
      "cell_type": "code",
      "execution_count": 18,
      "id": "bb7d773d",
      "metadata": {
        "colab": {
          "base_uri": "https://localhost:8080/"
        },
        "id": "bb7d773d",
        "outputId": "7f2eeee6-2ffe-46c9-b07f-98d493cb9609"
      },
      "outputs": [
        {
          "output_type": "stream",
          "name": "stdout",
          "text": [
            "8 1\n"
          ]
        }
      ],
      "source": [
        "# Find max and min in a tuple.\n",
        "tup = (5, 1, 8, 3)\n",
        "print(max(tup), min(tup))"
      ]
    },
    {
      "cell_type": "markdown",
      "id": "2f17635f",
      "metadata": {
        "id": "2f17635f"
      },
      "source": [
        "# Set Problems"
      ]
    },
    {
      "cell_type": "code",
      "execution_count": 20,
      "id": "97ac3683",
      "metadata": {
        "colab": {
          "base_uri": "https://localhost:8080/"
        },
        "id": "97ac3683",
        "outputId": "96768787-35f5-4a8a-c8c1-7896c797c37e"
      },
      "outputs": [
        {
          "output_type": "stream",
          "name": "stdout",
          "text": [
            "{1, 2, 3, 4, 5}\n"
          ]
        }
      ],
      "source": [
        "#Create a set of 5 unique numbers.\n",
        "s = {1, 2, 3, 4, 5}\n",
        "print(s)"
      ]
    },
    {
      "cell_type": "code",
      "execution_count": 19,
      "id": "19d210ec",
      "metadata": {
        "colab": {
          "base_uri": "https://localhost:8080/"
        },
        "id": "19d210ec",
        "outputId": "e602a959-85aa-4dcf-c641-bb255a700208"
      },
      "outputs": [
        {
          "output_type": "stream",
          "name": "stdout",
          "text": [
            "{10, 30}\n"
          ]
        }
      ],
      "source": [
        "#Add and remove elements from a set.\n",
        "s = {10, 20}\n",
        "s.add(30)\n",
        "s.remove(20)\n",
        "print(s)"
      ]
    },
    {
      "cell_type": "code",
      "execution_count": 21,
      "id": "62a456ae",
      "metadata": {
        "colab": {
          "base_uri": "https://localhost:8080/"
        },
        "id": "62a456ae",
        "outputId": "8b5b2f72-53cb-4ec2-a803-515fefe12616"
      },
      "outputs": [
        {
          "output_type": "stream",
          "name": "stdout",
          "text": [
            "{1, 2, 3, 4, 5}\n"
          ]
        }
      ],
      "source": [
        "#Find the union of two sets.\n",
        "s1 = {1, 2, 3}\n",
        "s2 = {3, 4, 5}\n",
        "print(s1 | s2)"
      ]
    },
    {
      "cell_type": "code",
      "execution_count": 22,
      "id": "e26f8b90",
      "metadata": {
        "colab": {
          "base_uri": "https://localhost:8080/"
        },
        "id": "e26f8b90",
        "outputId": "fba76310-ce5b-4109-8022-70ad3f474b10"
      },
      "outputs": [
        {
          "output_type": "stream",
          "name": "stdout",
          "text": [
            "{2, 3}\n"
          ]
        }
      ],
      "source": [
        "#Find the intersection of two sets.\n",
        "s1 = {1, 2, 3}\n",
        "s2 = {2, 3, 4}\n",
        "print(s1 & s2)"
      ]
    },
    {
      "cell_type": "code",
      "execution_count": 23,
      "id": "0070c09f",
      "metadata": {
        "colab": {
          "base_uri": "https://localhost:8080/"
        },
        "id": "0070c09f",
        "outputId": "f3d78e13-ba76-498d-be10-69757c8d3f94"
      },
      "outputs": [
        {
          "output_type": "stream",
          "name": "stdout",
          "text": [
            "{1}\n"
          ]
        }
      ],
      "source": [
        "#Find the difference of two sets.\n",
        "s1 = {1, 2, 3}\n",
        "s2 = {2, 3}\n",
        "print(s1 - s2)"
      ]
    },
    {
      "cell_type": "code",
      "execution_count": 24,
      "id": "1335a373",
      "metadata": {
        "colab": {
          "base_uri": "https://localhost:8080/"
        },
        "id": "1335a373",
        "outputId": "8d8a2c9e-0123-4f8b-93bb-3dc4cff5b2f3"
      },
      "outputs": [
        {
          "output_type": "stream",
          "name": "stdout",
          "text": [
            "True\n"
          ]
        }
      ],
      "source": [
        "#Check if one set is subset of another.\n",
        "s1 = {1, 2}\n",
        "s2 = {1, 2, 3}\n",
        "print(s1.issubset(s2))"
      ]
    },
    {
      "cell_type": "markdown",
      "id": "873eff21",
      "metadata": {
        "id": "873eff21"
      },
      "source": [
        "# Dictionary Problems"
      ]
    },
    {
      "cell_type": "code",
      "execution_count": 25,
      "id": "9385c264",
      "metadata": {
        "colab": {
          "base_uri": "https://localhost:8080/"
        },
        "id": "9385c264",
        "outputId": "32c41202-b2df-4793-b98e-15207fb7c144"
      },
      "outputs": [
        {
          "output_type": "stream",
          "name": "stdout",
          "text": [
            "{'name': 'Vijay', 'age': 21, 'city': 'Delhi'}\n"
          ]
        }
      ],
      "source": [
        "#Create a dictionary and print it.\n",
        "d = {\"name\": \"Vijay\", \"age\": 21, \"city\": \"Delhi\"}\n",
        "print(d)"
      ]
    },
    {
      "cell_type": "code",
      "execution_count": 26,
      "id": "45bc6a97",
      "metadata": {
        "colab": {
          "base_uri": "https://localhost:8080/"
        },
        "id": "45bc6a97",
        "outputId": "ca9fe8e1-65cd-4dc9-c544-ef28723e88dc"
      },
      "outputs": [
        {
          "output_type": "stream",
          "name": "stdout",
          "text": [
            "{'name': 'Vijay', 'age': 21, 'country': 'India'}\n"
          ]
        }
      ],
      "source": [
        "#Add a new key-value pair to the dictionary.\n",
        "d = {\"name\": \"Vijay\", \"age\": 21}\n",
        "d[\"country\"] = \"India\"\n",
        "print(d)"
      ]
    },
    {
      "cell_type": "code",
      "execution_count": 27,
      "id": "27b1c3c6",
      "metadata": {
        "colab": {
          "base_uri": "https://localhost:8080/"
        },
        "id": "27b1c3c6",
        "outputId": "71c80b7c-abb2-4359-85a9-ecfb7c51190a"
      },
      "outputs": [
        {
          "output_type": "stream",
          "name": "stdout",
          "text": [
            "{'name': 'Vijay', 'age': 22}\n"
          ]
        }
      ],
      "source": [
        "#Update the age value in dictionary.\n",
        "d = {\"name\": \"Vijay\", \"age\": 21}\n",
        "d[\"age\"] = 22\n",
        "print(d)"
      ]
    },
    {
      "cell_type": "code",
      "execution_count": 28,
      "id": "ee5acd92",
      "metadata": {
        "colab": {
          "base_uri": "https://localhost:8080/"
        },
        "id": "ee5acd92",
        "outputId": "1bb5e52d-5fa9-4c84-e9e7-d5d3b51a59fa"
      },
      "outputs": [
        {
          "output_type": "stream",
          "name": "stdout",
          "text": [
            "{'name': 'Vijay', 'age': 21}\n"
          ]
        }
      ],
      "source": [
        "#Delete a key from dictionary.\n",
        "d = {\"name\": \"Vijay\", \"age\": 21, \"city\": \"Delhi\"}\n",
        "d.pop(\"city\")\n",
        "print(d)"
      ]
    },
    {
      "cell_type": "code",
      "execution_count": 29,
      "id": "eba0e7a9",
      "metadata": {
        "colab": {
          "base_uri": "https://localhost:8080/"
        },
        "id": "eba0e7a9",
        "outputId": "2cfaf3c3-1e4c-41ab-a768-eb74ec51ef20"
      },
      "outputs": [
        {
          "output_type": "stream",
          "name": "stdout",
          "text": [
            "dict_keys(['a', 'b'])\n",
            "dict_values([1, 2])\n"
          ]
        }
      ],
      "source": [
        "#Print all keys and values separately.\n",
        "d = {\"a\": 1, \"b\": 2}\n",
        "print(d.keys())\n",
        "print(d.values())"
      ]
    },
    {
      "cell_type": "code",
      "execution_count": 30,
      "id": "9b7a0311",
      "metadata": {
        "colab": {
          "base_uri": "https://localhost:8080/"
        },
        "id": "9b7a0311",
        "outputId": "c26c7765-38c7-48cb-b228-0e6ff8df38b7"
      },
      "outputs": [
        {
          "output_type": "stream",
          "name": "stdout",
          "text": [
            "{'x': 1, 'y': 2, 'z': 3}\n"
          ]
        }
      ],
      "source": [
        "#Merge two dictionaries.\n",
        "d1 = {\"x\": 1, \"y\": 2}\n",
        "d2 = {\"z\": 3}\n",
        "d1.update(d2)\n",
        "print(d1)"
      ]
    },
    {
      "cell_type": "markdown",
      "id": "eea26d2b",
      "metadata": {
        "id": "eea26d2b"
      },
      "source": [
        "# String Problems"
      ]
    },
    {
      "cell_type": "code",
      "execution_count": 32,
      "id": "8102a9b7",
      "metadata": {
        "colab": {
          "base_uri": "https://localhost:8080/"
        },
        "id": "8102a9b7",
        "outputId": "1f025663-0930-4a9f-d017-934b77a26340"
      },
      "outputs": [
        {
          "output_type": "stream",
          "name": "stdout",
          "text": [
            "h o\n"
          ]
        }
      ],
      "source": [
        "#Print first and last character of a string.\n",
        "s = \"hello\"\n",
        "print(s[0], s[4])"
      ]
    },
    {
      "cell_type": "code",
      "execution_count": 33,
      "id": "4cc90813",
      "metadata": {
        "colab": {
          "base_uri": "https://localhost:8080/"
        },
        "id": "4cc90813",
        "outputId": "2aed22e9-aa60-4a7f-cc62-1e732c3e2733"
      },
      "outputs": [
        {
          "output_type": "stream",
          "name": "stdout",
          "text": [
            "nohtyp\n"
          ]
        }
      ],
      "source": [
        "#Reverse a string\n",
        "s = \"python\"\n",
        "print(s[::-1])"
      ]
    },
    {
      "cell_type": "code",
      "execution_count": 34,
      "id": "21603458",
      "metadata": {
        "colab": {
          "base_uri": "https://localhost:8080/"
        },
        "id": "21603458",
        "outputId": "34d99edb-2aaf-409d-b07b-289c86176b3e"
      },
      "outputs": [
        {
          "output_type": "stream",
          "name": "stdout",
          "text": [
            "3\n"
          ]
        }
      ],
      "source": [
        "#Count how many times a character appears.\n",
        "s = \"banana\"\n",
        "print(s.count(\"a\"))"
      ]
    },
    {
      "cell_type": "code",
      "execution_count": 35,
      "id": "7fb7c325",
      "metadata": {
        "colab": {
          "base_uri": "https://localhost:8080/"
        },
        "id": "7fb7c325",
        "outputId": "2ecebb19-174a-4c24-def5-acc8c329c156"
      },
      "outputs": [
        {
          "output_type": "stream",
          "name": "stdout",
          "text": [
            "True\n"
          ]
        }
      ],
      "source": [
        "#Check if a string is a palindrome.\n",
        "s = \"madam\"\n",
        "print(s == s[::-1])\n"
      ]
    },
    {
      "cell_type": "code",
      "execution_count": 36,
      "id": "1cebbcb2",
      "metadata": {
        "colab": {
          "base_uri": "https://localhost:8080/"
        },
        "id": "1cebbcb2",
        "outputId": "78203329-7abe-460b-f0a9-a63d009d1cdd"
      },
      "outputs": [
        {
          "output_type": "stream",
          "name": "stdout",
          "text": [
            "HELLO\n",
            "hello\n"
          ]
        }
      ],
      "source": [
        "#Convert string to uppercase and lowercase.\n",
        "s = \"Hello\"\n",
        "print(s.upper())\n",
        "print(s.lower())"
      ]
    },
    {
      "cell_type": "code",
      "execution_count": 37,
      "id": "20fc9859",
      "metadata": {
        "colab": {
          "base_uri": "https://localhost:8080/"
        },
        "id": "20fc9859",
        "outputId": "e39104f5-2258-45e3-b575-380379e33ba7"
      },
      "outputs": [
        {
          "output_type": "stream",
          "name": "stdout",
          "text": [
            "Python-is-fun\n"
          ]
        }
      ],
      "source": [
        "# Split string into words and join with -.\n",
        "s = \"Python is fun\"\n",
        "words = s.split()\n",
        "print(\"-\".join(words))"
      ]
    },
    {
      "cell_type": "code",
      "source": [],
      "metadata": {
        "id": "bMEPxptgtTyA"
      },
      "id": "bMEPxptgtTyA",
      "execution_count": null,
      "outputs": []
    }
  ],
  "metadata": {
    "colab": {
      "provenance": [],
      "include_colab_link": true
    },
    "language_info": {
      "name": "python"
    },
    "kernelspec": {
      "name": "python3",
      "display_name": "Python 3"
    }
  },
  "nbformat": 4,
  "nbformat_minor": 5
}